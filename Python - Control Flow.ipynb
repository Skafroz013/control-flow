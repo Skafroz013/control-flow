{
 "cells": [
  {
   "cell_type": "code",
   "execution_count": null,
   "id": "6d978413-2af2-4237-b87e-1380347d1166",
   "metadata": {},
   "outputs": [],
   "source": [
    "# Basic If-Else Statements:\n"
   ]
  },
  {
   "cell_type": "code",
   "execution_count": 2,
   "id": "13379796-043c-493f-ab9b-bdbd0eb6a624",
   "metadata": {},
   "outputs": [
    {
     "name": "stdin",
     "output_type": "stream",
     "text": [
      "enter a number -3\n"
     ]
    },
    {
     "name": "stdout",
     "output_type": "stream",
     "text": [
      "The number is negative\n"
     ]
    }
   ],
   "source": [
    "#1. Write a Python program to check if a given number is positive or negative.\n",
    "num=int(input(\"enter a number\"))\n",
    "if num <0:\n",
    "    print(\"The number is negative\")\n",
    "else:\n",
    "    print(\"The number is positive\")"
   ]
  },
  {
   "cell_type": "code",
   "execution_count": 48,
   "id": "c53ecc9c-c28b-48e8-b751-ec67d83c2e66",
   "metadata": {},
   "outputs": [
    {
     "name": "stdin",
     "output_type": "stream",
     "text": [
      "enter the age 12\n"
     ]
    },
    {
     "name": "stdout",
     "output_type": "stream",
     "text": [
      "The person is not eligible to vote\n"
     ]
    }
   ],
   "source": [
    "#2. Create a program that determines if a person is eligible to vote based on their age.\n",
    "age = int(input(\"enter the age\"))\n",
    "if age>18:\n",
    "    print(\"The person is eligible to vote\")\n",
    "else:\n",
    "    print(\"The person is not eligible to vote\")\n",
    "    "
   ]
  },
  {
   "cell_type": "code",
   "execution_count": 9,
   "id": "5037800b-4eb1-4bbc-af0a-f115856d1d04",
   "metadata": {},
   "outputs": [
    {
     "name": "stdin",
     "output_type": "stream",
     "text": [
      "Enter the first number:  1\n",
      "Enter the second number:  2\n"
     ]
    },
    {
     "name": "stdout",
     "output_type": "stream",
     "text": [
      "The maximum number is: 2\n"
     ]
    }
   ],
   "source": [
    "#3. Develop a program to find the maximum of two numbers using if-else statements.\n",
    "num1 = int(input(\"Enter the first number: \"))\n",
    "num2 = int(input(\"Enter the second number: \"))\n",
    "\n",
    "if num1 > num2:\n",
    "    max_num = num1\n",
    "else:\n",
    "    max_num = num2\n",
    "print(\"The maximum number is:\", max_num)"
   ]
  },
  {
   "cell_type": "code",
   "execution_count": 11,
   "id": "20654431-67ed-4d4a-9b63-afb419db12ff",
   "metadata": {},
   "outputs": [
    {
     "name": "stdin",
     "output_type": "stream",
     "text": [
      "Enter a year:  2020\n"
     ]
    },
    {
     "name": "stdout",
     "output_type": "stream",
     "text": [
      "2020 is a leap year.\n"
     ]
    }
   ],
   "source": [
    "#4. Write a Python script to classify a given year as a leap year or not.\n",
    "year = int(input(\"Enter a year: \"))\n",
    "if (year % 4 == 0 and year % 100 !=0) or (year % 400 == 0):\n",
    "    print(year,\"is a leap year.\")\n",
    "else:\n",
    "    print(year,\"is not a leap year.\")"
   ]
  },
  {
   "cell_type": "code",
   "execution_count": 17,
   "id": "4f5fe40e-afb5-49c3-ac10-500bdfd6a61e",
   "metadata": {},
   "outputs": [
    {
     "name": "stdin",
     "output_type": "stream",
     "text": [
      "Enter a character:  l\n"
     ]
    },
    {
     "name": "stdout",
     "output_type": "stream",
     "text": [
      "l is a consonant\n"
     ]
    }
   ],
   "source": [
    "#5. Create a program that checks whether a character is a vowel or a consonant.\n",
    "char = input(\"Enter a character: \")\n",
    "char = char.lower()\n",
    "if len(char) == 1:\n",
    "    if char in 'aeiou':\n",
    "        print(char,\"is a vowel.\")\n",
    "    else:\n",
    "        print(char,\"is a consonant\")\n",
    "else:\n",
    "    print(\"Please enter a single character\")"
   ]
  },
  {
   "cell_type": "code",
   "execution_count": 19,
   "id": "b1becb8d-2c3f-4eb8-89d1-8d4b52f38ce3",
   "metadata": {},
   "outputs": [
    {
     "name": "stdin",
     "output_type": "stream",
     "text": [
      "Enter a number 17\n"
     ]
    },
    {
     "name": "stdout",
     "output_type": "stream",
     "text": [
      "the number is odd\n"
     ]
    }
   ],
   "source": [
    "#6. Implement a program to determine whether a given number is even or odd.\n",
    "num=int(input(\"Enter a number\"))\n",
    "if num%2 == 0:\n",
    "    print(\"The number is even\")\n",
    "else:\n",
    "    print(\"the number is odd\")"
   ]
  },
  {
   "cell_type": "code",
   "execution_count": 24,
   "id": "b11765e7-587e-424a-b95b-b4ed4c34e8f9",
   "metadata": {},
   "outputs": [
    {
     "name": "stdin",
     "output_type": "stream",
     "text": [
      "Enter a number:  44.7\n"
     ]
    },
    {
     "name": "stdout",
     "output_type": "stream",
     "text": [
      "The absolute value of 44.7 is 44.7\n"
     ]
    }
   ],
   "source": [
    "#7. Write a Python function to calculate the absolute value of a number without using the `abs()` function.\n",
    "def absolute_value(num):\n",
    "    if num < 0:\n",
    "        return -num\n",
    "    else:\n",
    "        return num\n",
    "num = float(input(\"Enter a number: \"))\n",
    "result = absolute_value(num)\n",
    "print(\"The absolute value of\", num, \"is\", result)"
   ]
  },
  {
   "cell_type": "code",
   "execution_count": 30,
   "id": "a07bdeb6-dbbf-46d7-8824-1926d78dd4d2",
   "metadata": {},
   "outputs": [
    {
     "name": "stdin",
     "output_type": "stream",
     "text": [
      "Enter 1st number 13\n",
      "Enter 2nd number 15\n",
      "Enter 3rd number 17\n"
     ]
    },
    {
     "name": "stdout",
     "output_type": "stream",
     "text": [
      "The largest number is: 17\n"
     ]
    }
   ],
   "source": [
    "#8. Develop a program that determines the largest of three given numbers using if-else statements.\n",
    "num1 = int(input(\"Enter 1st number\"))\n",
    "num2 = int(input(\"Enter 2nd number\"))\n",
    "num3 = int(input(\"Enter 3rd number\"))\n",
    "if num1 >= num2 and num1 >= num3:\n",
    "    largest = num1\n",
    "elif num2 >= num1 and num2 >= num3:\n",
    "    largest = num2\n",
    "else:\n",
    "    largest = num3\n",
    "print(\"The largest number is:\",largest)"
   ]
  },
  {
   "cell_type": "code",
   "execution_count": 33,
   "id": "d068f125-93d1-4ecc-bb8a-8353d1a624e9",
   "metadata": {},
   "outputs": [
    {
     "name": "stdin",
     "output_type": "stream",
     "text": [
      "Enter a  string:  ikki\n"
     ]
    },
    {
     "name": "stdout",
     "output_type": "stream",
     "text": [
      "'ikki' is a palindrome.\n"
     ]
    }
   ],
   "source": [
    "#9. Create a program that checks if a given string is a palindrome.\n",
    "def is_palindrome(s):\n",
    "    s=s.replace(\" \",\"\").lower()\n",
    "    return s == s[::-1]\n",
    "input_string = input(\"Enter a  string: \")\n",
    "if is_palindrome(input_string):\n",
    "    print(f\"'{input_string}' is a palindrome.\")\n",
    "else:\n",
    "    print(f\"'{input_string}' is not a palindrome.\")"
   ]
  },
  {
   "cell_type": "code",
   "execution_count": 41,
   "id": "72f2877f-412c-4520-8893-a40e719e6796",
   "metadata": {},
   "outputs": [
    {
     "name": "stdin",
     "output_type": "stream",
     "text": [
      "Enter the students score:  80\n"
     ]
    },
    {
     "name": "stdout",
     "output_type": "stream",
     "text": [
      "Grade is B\n"
     ]
    }
   ],
   "source": [
    "#10. Write a Python program to calculate the grade based on a student's score.\n",
    "score = float(input(\"Enter the students score: \"))\n",
    "if score >= 90:\n",
    "    print(\"Grade is A\")\n",
    "elif score >= 80:\n",
    "    print(\"Grade is B\")\n",
    "elif score >=70:\n",
    "    print(\"Grade is C\")\n",
    "elif score >=60:\n",
    "    print(\"Grade is D\")\n",
    "else:\n",
    "    print(\"Grade is F\")"
   ]
  },
  {
   "cell_type": "code",
   "execution_count": null,
   "id": "e692a1e2-0209-40e9-9d67-f1092f70429c",
   "metadata": {},
   "outputs": [],
   "source": [
    "# Nested If-Else Statements:\n"
   ]
  },
  {
   "cell_type": "code",
   "execution_count": 1,
   "id": "c9f21153-8eec-4631-b1ee-e2c5b1b82a58",
   "metadata": {},
   "outputs": [
    {
     "name": "stdin",
     "output_type": "stream",
     "text": [
      "Enter the first number:  34\n",
      "Enter the second number:  66\n",
      "Enter the third number:  4\n"
     ]
    },
    {
     "name": "stdout",
     "output_type": "stream",
     "text": [
      "The largest number among 34.0 , 66.0 , and 4.0 is 66.0\n"
     ]
    }
   ],
   "source": [
    "# 11 program to find the largest among three numbers using nested if-else statements\n",
    "\n",
    "num1 = float(input(\"Enter the first number: \"))\n",
    "num2 = float(input(\"Enter the second number: \"))\n",
    "num3 = float(input(\"Enter the third number: \"))\n",
    "if num1 >= num2:\n",
    "    if num1 >= num3:\n",
    "        largest = num1\n",
    "    else:\n",
    "        largest = num3\n",
    "else:\n",
    "    if num2 >= num3:\n",
    "        largest = num2\n",
    "    else:\n",
    "        largest = num3\n",
    "print(\"The largest number among\", num1, \",\", num2, \", and\", num3, \"is\", largest)"
   ]
  },
  {
   "cell_type": "code",
   "execution_count": 3,
   "id": "c18b542c-f1d1-44f7-85a3-fe6c7fa46864",
   "metadata": {},
   "outputs": [
    {
     "name": "stdin",
     "output_type": "stream",
     "text": [
      "Enter the length of the first side:  76\n",
      "Enter the length of the second side:  66\n",
      "Enter the length of the third side:  76\n"
     ]
    },
    {
     "name": "stdout",
     "output_type": "stream",
     "text": [
      "It's a isosceles triangle.\n"
     ]
    }
   ],
   "source": [
    "# 12 program to determine if a triangle is equilateral, isosceles, or scalene\n",
    "\n",
    "side1 = float(input(\"Enter the length of the first side: \"))\n",
    "side2 = float(input(\"Enter the length of the second side: \"))\n",
    "side3 = float(input(\"Enter the length of the third side: \"))\n",
    "if side1 + side2 > side3 and side1 + side3 > side2 and side2 + side3 > side1:\n",
    "    if side1 == side2 == side3:\n",
    "        triangle_type = \"equilateral\"\n",
    "    elif side1 == side2 or side1 == side3 or side2 == side3:\n",
    "        triangle_type = \"isosceles\"\n",
    "    else:\n",
    "        triangle_type = \"scalene\"\n",
    "    print(\"It's a\", triangle_type, \"triangle.\")\n",
    "else:\n",
    "    print(\"These side lengths do not form a valid triangle.\")"
   ]
  },
  {
   "cell_type": "code",
   "execution_count": 4,
   "id": "0b62bda2-a39f-4ff4-99e2-a2dacec86a64",
   "metadata": {},
   "outputs": [
    {
     "name": "stdin",
     "output_type": "stream",
     "text": [
      "Enter a year:  2003\n"
     ]
    },
    {
     "name": "stdout",
     "output_type": "stream",
     "text": [
      "2003 is not a leap year.\n",
      "2003 is not a century year.\n"
     ]
    }
   ],
   "source": [
    "# 13 program that checks if a year is a leap year and also if it is a century year\n",
    "\n",
    "year = int(input(\"Enter a year: \"))\n",
    "# Chech if it's a century year\n",
    "if (year % 4 == 0 and year % 100 != 0) or (year % 400 == 0):\n",
    "    print(year, \"is a leap year.\")   \n",
    "else:\n",
    "    print(year, \"is not a leap year.\")\n",
    "\n",
    "# Check if it's a century year\n",
    "is_century_year = year % 100 == 0\n",
    "if is_century_year:\n",
    "    print(year, \"is a century year.\")\n",
    "else:\n",
    "    print(year, \"is not a century year.\")\n"
   ]
  },
  {
   "cell_type": "code",
   "execution_count": 7,
   "id": "39a2c4c8-c5d1-4e8f-a474-5ec5dad0ce6f",
   "metadata": {},
   "outputs": [
    {
     "name": "stdin",
     "output_type": "stream",
     "text": [
      "Enter number :  0\n"
     ]
    },
    {
     "name": "stdout",
     "output_type": "stream",
     "text": [
      "Number is zero\n"
     ]
    }
   ],
   "source": [
    "# 14 Python script to determine if a number is positive, negative, or zero\n",
    "\n",
    "num=int(input(\"Enter number : \"))\n",
    "if num>=0:\n",
    "    if num==0:\n",
    "        print(\"Number is zero\")\n",
    "    else:\n",
    "        print(\"Number is positive\")\n",
    "else:\n",
    "    print(\"Number is negative\")\n",
    "        "
   ]
  },
  {
   "cell_type": "code",
   "execution_count": 8,
   "id": "e50fae36-cac3-451c-9291-c954175970c2",
   "metadata": {},
   "outputs": [
    {
     "name": "stdin",
     "output_type": "stream",
     "text": [
      "Enter your age:  18\n"
     ]
    },
    {
     "name": "stdout",
     "output_type": "stream",
     "text": [
      "You are a teenager.\n"
     ]
    }
   ],
   "source": [
    "# 15 program to check if a person is a teenager (between 13 and 19 years old)\n",
    "\n",
    "age = int(input(\"Enter your age: \"))\n",
    "if age >= 13:\n",
    "    if age <= 19:\n",
    "        print(\"You are a teenager.\")\n",
    "    else:\n",
    "        print(\"You are not a teenager.\")\n",
    "else:\n",
    "    print(\"You are not a teenager.\")"
   ]
  },
  {
   "cell_type": "code",
   "execution_count": 14,
   "id": "ec0df2ef-6af2-4afb-9b1e-dabe31ebb1b5",
   "metadata": {},
   "outputs": [
    {
     "name": "stdin",
     "output_type": "stream",
     "text": [
      "Enter angle :  44\n"
     ]
    },
    {
     "name": "stdout",
     "output_type": "stream",
     "text": [
      "It's an acute angle triangle\n"
     ]
    }
   ],
   "source": [
    "# 16 program that determines the type of angle based on its measure (acute, obtuse, or right)\n",
    "\n",
    "angle=float(input(\"Enter angle : \"))\n",
    "if angle<=90:\n",
    "    if angle==90:\n",
    "        print(\"It's a right angle triangle\")\n",
    "    else:\n",
    "        print(\"It's an acute angle triangle\")\n",
    "else:\n",
    "    print(\"It's an obtuse angle triangle\")"
   ]
  },
  {
   "cell_type": "code",
   "execution_count": 15,
   "id": "7b7478b5-bf91-4cdc-8ae9-37d7fae5a46d",
   "metadata": {},
   "outputs": [
    {
     "name": "stdin",
     "output_type": "stream",
     "text": [
      "Enter the coefficient a:  3\n",
      "Enter the coefficient b:  6\n",
      "Enter the coefficient c:  9\n"
     ]
    },
    {
     "name": "stdout",
     "output_type": "stream",
     "text": [
      "Complex roots: root1 = -1.0 + 1.414213562373095 i and root2 = -1.0 - 1.414213562373095 i\n"
     ]
    }
   ],
   "source": [
    "# 17 Python program to calculate the roots of a quadratic equation\n",
    "\n",
    "a = float(input(\"Enter the coefficient a: \"))\n",
    "b = float(input(\"Enter the coefficient b: \"))\n",
    "c = float(input(\"Enter the coefficient c: \"))\n",
    "D = b**2 - 4*a*c\n",
    "if D >=0:\n",
    "    if D>0:\n",
    "        root1 = (-b + D**0.5) / (2*a)\n",
    "        root2 = (-b - D**0.5) / (2*a)\n",
    "        print(\"Two real and distinct roots: root1 =\", root1, \"and root2 =\", root2)\n",
    "    else:\n",
    "        root = -b / (2*a)\n",
    "        print(\"One real root (double root): root =\", root)\n",
    "else:\n",
    "    real_part = -b / (2*a)\n",
    "    imaginary_part = (-D)**0.5 / (2*a)\n",
    "    print(\"Complex roots: root1 =\", real_part, \"+\", imaginary_part, \"i and root2 =\", real_part, \"-\", imaginary_part, \"i\")"
   ]
  },
  {
   "cell_type": "code",
   "execution_count": 1,
   "id": "cd1fba04-cf92-4c6a-ab7e-742d63213cc1",
   "metadata": {},
   "outputs": [
    {
     "name": "stdin",
     "output_type": "stream",
     "text": [
      "Enter a number (1 for Monday, 2 for Tuesday, etc.):  3\n"
     ]
    },
    {
     "name": "stdout",
     "output_type": "stream",
     "text": [
      "The day corresponding to  3  is  Wednesday\n"
     ]
    }
   ],
   "source": [
    "# 18 program to determine the day of the week based on a user-provided number (1 for Monday, 2 for Tuesday, etc.)\n",
    "\n",
    "day_number = int(input(\"Enter a number (1 for Monday, 2 for Tuesday, etc.): \"))\n",
    "if day_number == 1: \n",
    "    day_name = \"Monday\"\n",
    "elif day_number == 2:\n",
    "    day_name = \"Tuesday\"\n",
    "elif day_number == 3:\n",
    "    day_name = \"Wednesday\"\n",
    "elif day_number == 4:\n",
    "    day_name = \"Thursday\"\n",
    "elif day_number == 5:\n",
    "    day_name = \"Friday\"\n",
    "elif day_number == 6:\n",
    "    day_name = \"Saturday\"\n",
    "elif day_number == 7:\n",
    "    day_name = \"Sunday\"\n",
    "else:\n",
    "    day_name = \"Invalid input (please enter a number between 1 and 7)\"\n",
    "print(\"The day corresponding to \",day_number,\" is \",day_name)"
   ]
  },
  {
   "cell_type": "code",
   "execution_count": 2,
   "id": "6e8ea933-f4a6-4159-82ee-77dc1fabb5cf",
   "metadata": {},
   "outputs": [
    {
     "name": "stdin",
     "output_type": "stream",
     "text": [
      "Enter a year:  2000\n"
     ]
    },
    {
     "name": "stdout",
     "output_type": "stream",
     "text": [
      "2000  is a leap year.\n"
     ]
    }
   ],
   "source": [
    "# 19 program that determines if a year is a leap year and also if it is evenly divisible by 400\n",
    "\n",
    "year = int(input(\"Enter a year: \"))\n",
    "if year % 4 == 0:\n",
    "    if year % 100 == 0:\n",
    "        if year % 400 == 0:\n",
    "            leap_year = True\n",
    "        else:\n",
    "            leap_year = False\n",
    "    else:\n",
    "        leap_year = True\n",
    "else:\n",
    "    leap_year = False\n",
    "if leap_year:\n",
    "    print(year,\" is a leap year.\")\n",
    "else:\n",
    "    print(year,\" is not a leap year.\")"
   ]
  },
  {
   "cell_type": "code",
   "execution_count": 3,
   "id": "9372e2dd-94a6-4bbe-9a3f-dc4fd0296ef0",
   "metadata": {},
   "outputs": [
    {
     "name": "stdin",
     "output_type": "stream",
     "text": [
      "Enter a number:  78\n"
     ]
    },
    {
     "name": "stdout",
     "output_type": "stream",
     "text": [
      "78  is not a prime number.\n"
     ]
    }
   ],
   "source": [
    "# 20 program that checks if a given number is prime or not using nested if-else statements\n",
    "\n",
    "num = int(input(\"Enter a number: \"))\n",
    "if num > 1:\n",
    "    for i in range(2, int(num**0.5) + 1):\n",
    "        if (num % i) == 0:\n",
    "            print(num,\" is not a prime number.\")\n",
    "            break\n",
    "    else:\n",
    "        print(num,\" is a prime number.\")\n",
    "else:\n",
    "    print(num,\" is not a prime number.\")"
   ]
  },
  {
   "cell_type": "code",
   "execution_count": null,
   "id": "29719868-d3cf-4540-a022-409e0465c023",
   "metadata": {},
   "outputs": [],
   "source": [
    "# Elif Statements:\n"
   ]
  },
  {
   "cell_type": "code",
   "execution_count": 4,
   "id": "2d538d68-9f4f-4830-8fdb-65bf7366e8ee",
   "metadata": {},
   "outputs": [
    {
     "name": "stdin",
     "output_type": "stream",
     "text": [
      "Enter the score:  67\n"
     ]
    },
    {
     "name": "stdout",
     "output_type": "stream",
     "text": [
      "The grade for a score of  67.0  is  D\n"
     ]
    }
   ],
   "source": [
    "# 21 Python program to assign grades based on different ranges of scores using elif statements\n",
    "\n",
    "score = float(input(\"Enter the score: \"))\n",
    "if score >= 90:\n",
    "    grade = 'A'\n",
    "elif score >= 80:\n",
    "    grade = 'B'\n",
    "elif score >= 70:\n",
    "    grade = 'C'\n",
    "elif score >= 60:\n",
    "    grade = 'D'\n",
    "else:\n",
    "    grade = 'F'\n",
    "print(\"The grade for a score of \",score,\" is \", grade)"
   ]
  },
  {
   "cell_type": "code",
   "execution_count": 7,
   "id": "be92afae-6428-4c6a-bcc4-ac7d2720eeb0",
   "metadata": {},
   "outputs": [
    {
     "name": "stdin",
     "output_type": "stream",
     "text": [
      "Enter the first angle in degrees:  90\n",
      "Enter the second angle in degrees:  45\n",
      "Enter the third angle in degrees:  45\n"
     ]
    },
    {
     "name": "stdout",
     "output_type": "stream",
     "text": [
      "The triangle with angles 90.0 45.0 and 45.0  is a  Isosceles Triangle\n"
     ]
    }
   ],
   "source": [
    "# 22 program to determine the type of a triangle based on its angles\n",
    "\n",
    "angle1 = float(input(\"Enter the first angle in degrees: \"))\n",
    "angle2 = float(input(\"Enter the second angle in degrees: \"))\n",
    "angle3 = float(input(\"Enter the third angle in degrees: \"))\n",
    "angle_sum = angle1 + angle2 + angle3\n",
    "if angle_sum != 180:\n",
    "    triangle_type = \"Invalid Triangle (Sum of angles must be 180 degrees)\"\n",
    "elif angle1 == angle2 == angle3 == 60:\n",
    "    triangle_type = \"Equilateral Triangle\"\n",
    "elif angle1 == angle2 or angle1 == angle3 or angle2 == angle3:\n",
    "    triangle_type = \"Isosceles Triangle\"\n",
    "else:\n",
    "    triangle_type = \"Scalene Triangle\"\n",
    "print(\"The triangle with angles\", angle1, angle2, \"and\", angle3,\" is a \",triangle_type)\n"
   ]
  },
  {
   "cell_type": "code",
   "execution_count": 11,
   "id": "674abf1e-3489-4176-bce6-a22056d8e034",
   "metadata": {},
   "outputs": [
    {
     "name": "stdin",
     "output_type": "stream",
     "text": [
      "Enter your weight in kilograms:  67\n",
      "Enter your height in meters:  1.58\n"
     ]
    },
    {
     "name": "stdout",
     "output_type": "stream",
     "text": [
      "Your BMI is  26.83864765261977  and you are categorized as  Overweight\n"
     ]
    }
   ],
   "source": [
    "# 23 program to categorize a given person's BMI into underweight, normal, overweight, or obese using elif statements\n",
    "\n",
    "weight = float(input(\"Enter your weight in kilograms: \"))\n",
    "height = float(input(\"Enter your height in meters: \"))\n",
    "bmi = weight / (height ** 2)\n",
    "if bmi < 18.5:\n",
    "    category = \"Underweight\"\n",
    "elif 18.5 <= bmi < 24.9:\n",
    "    category = \"Normal\"\n",
    "elif 24.9 <= bmi < 29.9:\n",
    "    category = \"Overweight\"\n",
    "else:\n",
    "    category = \"Obese\"\n",
    "print(\"Your BMI is \",bmi,\" and you are categorized as \",category)\n"
   ]
  },
  {
   "cell_type": "code",
   "execution_count": 13,
   "id": "8b5f73c5-ee81-4e6d-b5b4-3c52df6f21e7",
   "metadata": {},
   "outputs": [
    {
     "name": "stdin",
     "output_type": "stream",
     "text": [
      "Enter number: -4\n"
     ]
    },
    {
     "name": "stdout",
     "output_type": "stream",
     "text": [
      "Number is negative\n"
     ]
    }
   ],
   "source": [
    "# 24 program that determines whether a given number is positive, negative, or zero using elif statements\n",
    "\n",
    "num=int(input(\"Enter number:\"))\n",
    "if num==0:\n",
    "    print(\"Number is zero\")\n",
    "elif num>0:\n",
    "    print(\"Number is positive\")\n",
    "else:\n",
    "    print(\"Number is negative\")"
   ]
  },
  {
   "cell_type": "code",
   "execution_count": 29,
   "id": "f04ac61f-1bbd-42bc-af99-20ea47e85fe4",
   "metadata": {},
   "outputs": [
    {
     "name": "stdin",
     "output_type": "stream",
     "text": [
      "Enter a character:  AFROZ\n"
     ]
    },
    {
     "name": "stdout",
     "output_type": "stream",
     "text": [
      "The character  AFROZ is a  Uppercase Letter\n"
     ]
    }
   ],
   "source": [
    "# 25 Python script to determine the type of a character (uppercase, lowercase, or special) using elif statements\n",
    "\n",
    "character = input(\"Enter a character: \")\n",
    "if character.isupper():\n",
    "    char_type = \"Uppercase Letter\"\n",
    "elif character.islower():\n",
    "    char_type = \"Lowercase Letter\"\n",
    "else:\n",
    "    char_type = \"Special Character\"\n",
    "print(\"The character \",character,\"is a \",char_type)"
   ]
  },
  {
   "cell_type": "code",
   "execution_count": 27,
   "id": "13fd7e2b-316a-4387-b716-6a11bc81eef5",
   "metadata": {},
   "outputs": [
    {
     "name": "stdin",
     "output_type": "stream",
     "text": [
      "Enter the purchase amount:  1500\n"
     ]
    },
    {
     "name": "stdout",
     "output_type": "stream",
     "text": [
      "Purchase amount: $ 1500.0\n",
      "Discount rate:  0.15\n",
      "Discounted price:  1275.0\n"
     ]
    }
   ],
   "source": [
    "# 26 program to calculate the discounted price based on different purchase amounts using elif statements\n",
    "\n",
    "purchase_amount = float(input(\"Enter the purchase amount: \"))\n",
    "discount_rate = 0.0\n",
    "discounted_price = 0.0\n",
    "if purchase_amount >= 1000:\n",
    "    discount_rate = 0.15  \n",
    "elif purchase_amount >= 500:\n",
    "    discount_rate = 0.1   \n",
    "elif purchase_amount >= 100:\n",
    "    discount_rate = 0.05  \n",
    "discounted_price = purchase_amount - (purchase_amount * discount_rate)\n",
    "print(\"Purchase amount: $\",purchase_amount)\n",
    "print(\"Discount rate: \",discount_rate)\n",
    "print(\"Discounted price: \",discounted_price)"
   ]
  },
  {
   "cell_type": "code",
   "execution_count": 17,
   "id": "a9bc26d4-9688-4acd-8847-ab5f7b3e4de7",
   "metadata": {},
   "outputs": [
    {
     "name": "stdin",
     "output_type": "stream",
     "text": [
      "Enter the electricity consumption in kWh:  5670\n"
     ]
    },
    {
     "name": "stdout",
     "output_type": "stream",
     "text": [
      "Electricity consumption:  5670.0 kWh\n",
      "Total electricity bill: $ 5023.0\n"
     ]
    }
   ],
   "source": [
    "# 27 a program to calculate the electricity bill based on different consumption slabs using elif statements\n",
    "\n",
    "consumption = float(input(\"Enter the electricity consumption in kWh: \"))\n",
    "total_bill = 0.0\n",
    "rate_slab1 = 0.5  \n",
    "rate_slab2 = 0.7  \n",
    "rate_slab3 = 0.9 \n",
    "if consumption <= 100:\n",
    "    total_bill = consumption * rate_slab1\n",
    "elif consumption <= 300:\n",
    "    total_bill = 100 * rate_slab1 + (consumption - 100) * rate_slab2\n",
    "else:\n",
    "    total_bill = 100 * rate_slab1 + 200 * rate_slab2 + (consumption - 300) * rate_slab3\n",
    "print(\"Electricity consumption: \",consumption,\"kWh\")\n",
    "print(\"Total electricity bill: $\",total_bill)"
   ]
  },
  {
   "cell_type": "code",
   "execution_count": 18,
   "id": "eabe34cb-0243-4f8b-9eed-f9a76909420b",
   "metadata": {},
   "outputs": [
    {
     "name": "stdin",
     "output_type": "stream",
     "text": [
      "Enter the length of side 1:  45\n",
      "Enter the length of side 2:  48\n",
      "Enter the length of side 3:  26\n",
      "Enter the length of side 4:  60\n",
      "Enter the measure of angle 1 (in degrees):  30\n",
      "Enter the measure of angle 2 (in degrees):  30\n",
      "Enter the measure of angle 3 (in degrees):  50\n",
      "Enter the measure of angle 4 (in degrees):  40\n"
     ]
    },
    {
     "name": "stdout",
     "output_type": "stream",
     "text": [
      "The given figure is a  Quadrilateral\n"
     ]
    }
   ],
   "source": [
    "# 28 program to determine the type of quadrilateral based on its angles and sides using elif statements\n",
    "\n",
    "side1 = float(input(\"Enter the length of side 1: \"))\n",
    "side2 = float(input(\"Enter the length of side 2: \"))\n",
    "side3 = float(input(\"Enter the length of side 3: \"))\n",
    "side4 = float(input(\"Enter the length of side 4: \"))\n",
    "angle1 = float(input(\"Enter the measure of angle 1 (in degrees): \"))\n",
    "angle2 = float(input(\"Enter the measure of angle 2 (in degrees): \"))\n",
    "angle3 = float(input(\"Enter the measure of angle 3 (in degrees): \"))\n",
    "angle4 = float(input(\"Enter the measure of angle 4 (in degrees): \"))\n",
    "if angle1 == angle2 == angle3 == angle4 == 90:\n",
    "    if side1 == side2 == side3 == side4:\n",
    "        quadrilateral_type = \"Square\"\n",
    "    elif side1 == side2 and side3 == side4:\n",
    "        quadrilateral_type = \"Rectangle\"\n",
    "    else:\n",
    "        quadrilateral_type = \"Quadrilateral\"\n",
    "elif angle1 == angle2 == angle3 == angle4 != 90:\n",
    "    if side1 == side2 == side3 == side4:\n",
    "        quadrilateral_type = \"Rhombus\"\n",
    "    else:\n",
    "        quadrilateral_type = \"Quadrilateral\"\n",
    "else:\n",
    "    quadrilateral_type = \"Quadrilateral\"\n",
    "print(\"The given figure is a \",quadrilateral_type)"
   ]
  },
  {
   "cell_type": "code",
   "execution_count": 26,
   "id": "0d05ad60-4eff-4655-8a97-739d14faf6a2",
   "metadata": {},
   "outputs": [
    {
     "name": "stdin",
     "output_type": "stream",
     "text": [
      "Enter a month :  July\n"
     ]
    },
    {
     "name": "stdout",
     "output_type": "stream",
     "text": [
      "Summer\n"
     ]
    }
   ],
   "source": [
    "# 29 Python script to determine the season based on a user-provided month using elif statements\n",
    "\n",
    "month = input(\"Enter a month : \")\n",
    "month = month.lower()\n",
    "if month in (\"december\", \"january\", \"february\"):\n",
    "    season = \"Winter\"\n",
    "elif month in (\"march\", \"april\", \"may\"):\n",
    "    season = \"Spring\"\n",
    "elif month in (\"june\", \"july\", \"august\"):\n",
    "    season = \"Summer\"\n",
    "elif month in (\"september\", \"october\", \"november\"):\n",
    "    season = \"Fall\"\n",
    "else:\n",
    "    season = \"Invalid Month\"\n",
    "    print(\"Please enter a valid month.\")\n",
    "print(season)"
   ]
  },
  {
   "cell_type": "code",
   "execution_count": 30,
   "id": "28e4f831-bed7-49e3-8908-4a2ae39feb56",
   "metadata": {},
   "outputs": [
    {
     "name": "stdin",
     "output_type": "stream",
     "text": [
      "Enter a year:  2002\n",
      "Enter a month :  7\n"
     ]
    },
    {
     "name": "stdout",
     "output_type": "stream",
     "text": [
      "The year  2002 is a  Common Year\n",
      "The month  7  has  31  days\n"
     ]
    }
   ],
   "source": [
    "# 30 program to determine the type of a year (leap or common) and month (30 or 31 days) using elif statements\n",
    "\n",
    "year = int(input(\"Enter a year: \"))\n",
    "month = int(input(\"Enter a month : \"))\n",
    "if (year % 4 == 0 and year % 100 != 0) or (year % 400 == 0):\n",
    "    year_type = \"Leap Year\"\n",
    "else:\n",
    "    year_type = \"Common Year\"\n",
    "if month == 2:\n",
    "    if year_type == \"Leap Year\":\n",
    "        days_in_month = 29\n",
    "    else:\n",
    "        days_in_month = 28\n",
    "elif month in (4, 6, 9, 11):\n",
    "    days_in_month = 30\n",
    "else:\n",
    "    days_in_month = 31\n",
    "print(\"The year \",year,\"is a \",year_type)\n",
    "print(\"The month \",month,\" has \",days_in_month,\" days\")\n"
   ]
  },
  {
   "cell_type": "code",
   "execution_count": null,
   "id": "6638da29-1208-4c6f-9754-5524de7b47a6",
   "metadata": {},
   "outputs": [],
   "source": [
    "# Basic Level:\n"
   ]
  },
  {
   "cell_type": "code",
   "execution_count": 1,
   "id": "03615c24-3da9-473b-8f3e-f87911942604",
   "metadata": {},
   "outputs": [
    {
     "name": "stdin",
     "output_type": "stream",
     "text": [
      "Enter a number:  8\n"
     ]
    },
    {
     "name": "stdout",
     "output_type": "stream",
     "text": [
      "The number is positive.\n"
     ]
    }
   ],
   "source": [
    "#1. Write a Python program that checks if a given number is positive, negative, or zero.\n",
    "number = float(input(\"Enter a number: \"))\n",
    "if number > 0:\n",
    "    print(\"The number is positive.\")\n",
    "elif number < 0:\n",
    "    print(\"The number is negative.\")\n",
    "else:\n",
    "    print(\"The number is zero\")"
   ]
  },
  {
   "cell_type": "code",
   "execution_count": 2,
   "id": "14c3ea4a-d214-4ad9-8bb6-73fd8ff09941",
   "metadata": {},
   "outputs": [
    {
     "name": "stdin",
     "output_type": "stream",
     "text": [
      "enter the age 76\n"
     ]
    },
    {
     "name": "stdout",
     "output_type": "stream",
     "text": [
      "The person is eligible to vote\n"
     ]
    }
   ],
   "source": [
    "#2. Create a program to determine if a person is eligible to vote based on their age.\n",
    "age = int(input(\"enter the age\"))\n",
    "if age>18:\n",
    "    print(\"The person is eligible to vote\")\n",
    "else:\n",
    "    print(\"The person is not eligible to vote\")\n",
    "    "
   ]
  },
  {
   "cell_type": "code",
   "execution_count": 3,
   "id": "6acbab50-3c86-4525-81b9-7aa13e598750",
   "metadata": {},
   "outputs": [
    {
     "name": "stdin",
     "output_type": "stream",
     "text": [
      "Enter the first number 7\n",
      "enter the second number 8\n"
     ]
    },
    {
     "name": "stdout",
     "output_type": "stream",
     "text": [
      "The maximum number is: 8\n"
     ]
    }
   ],
   "source": [
    "#3. Write a program to find the maximum of two given numbers using conditional statements.\n",
    "num1 = int(input(\"Enter the first number\"))\n",
    "num2 = int(input(\"enter the second number\"))\n",
    "maximum = num1 if num1 > num2 else num2\n",
    "print(\"The maximum number is:\",maximum)"
   ]
  },
  {
   "cell_type": "code",
   "execution_count": 5,
   "id": "4f99ec09-071a-4ebe-b3e7-d0e1b866bce4",
   "metadata": {},
   "outputs": [
    {
     "name": "stdin",
     "output_type": "stream",
     "text": [
      "Enter the students score:  90\n"
     ]
    },
    {
     "name": "stdout",
     "output_type": "stream",
     "text": [
      "Grade is A\n"
     ]
    }
   ],
   "source": [
    "#4. Develop a program that calculates the grade of a student based on their exam score.\n",
    "score = float(input(\"Enter the students score: \"))\n",
    "if score >= 90:\n",
    "    print(\"Grade is A\")\n",
    "elif score >= 80:\n",
    "    print(\"Grade is B\")\n",
    "elif score >=70:\n",
    "    print(\"Grade is C\")\n",
    "elif score >=60:\n",
    "    print(\"Grade is D\")\n",
    "else:\n",
    "    print(\"Grade is F\")"
   ]
  },
  {
   "cell_type": "code",
   "execution_count": 9,
   "id": "e3803cee-d2f0-452c-b156-7101a980892a",
   "metadata": {},
   "outputs": [
    {
     "name": "stdin",
     "output_type": "stream",
     "text": [
      "Enter a year:  2020\n"
     ]
    },
    {
     "name": "stdout",
     "output_type": "stream",
     "text": [
      "2020 is a leap year.\n"
     ]
    }
   ],
   "source": [
    "#5. Write a Python script to classify a given year as a leap year or not.\n",
    "year = int(input(\"Enter a year: \"))\n",
    "if (year % 4 == 0 and year % 100 !=0) or (year % 400 == 0):\n",
    "    print(year,\"is a leap year.\")\n",
    "else:\n",
    "    print(year,\"is not a leap year.\")"
   ]
  },
  {
   "cell_type": "code",
   "execution_count": 7,
   "id": "8b48d72b-6e37-4b4f-886f-8b56e1af5cc2",
   "metadata": {},
   "outputs": [
    {
     "name": "stdin",
     "output_type": "stream",
     "text": [
      "Enter 1st side 8\n",
      "Enter 2nd side 9\n",
      "Enter 3rd side 10\n"
     ]
    },
    {
     "name": "stdout",
     "output_type": "stream",
     "text": [
      "The triangle is classified as scalane.\n"
     ]
    }
   ],
   "source": [
    "#6. Write a program to classify a triangle based on its sides' lengths.\n",
    "side1 = int(input(\"Enter 1st side\"))\n",
    "side2 = int(input(\"Enter 2nd side\"))\n",
    "side3 = int(input(\"Enter 3rd side\"))\n",
    "if side1 == side2 == side3:\n",
    "    triangle_type = 'equilateral'\n",
    "elif side1 == side2 or side1 == side3 or side2 == side3:\n",
    "    triangle_typle = \"isosceles\"\n",
    "else:\n",
    "    triangle_type = \"scalane\"\n",
    "print(f\"The triangle is classified as {triangle_type}.\")\n"
   ]
  },
  {
   "cell_type": "code",
   "execution_count": 8,
   "id": "40d869d2-20a4-4863-ab88-5addcc095eaf",
   "metadata": {},
   "outputs": [
    {
     "name": "stdin",
     "output_type": "stream",
     "text": [
      "Enter 1st number 8\n",
      "Enter 2nd number 9\n",
      "Enter 3rd number 90\n"
     ]
    },
    {
     "name": "stdout",
     "output_type": "stream",
     "text": [
      "The largest number is: 90\n"
     ]
    }
   ],
   "source": [
    "### 7. Build a program that determines the largest of three given numbers.\n",
    "num1 = int(input(\"Enter 1st number\"))\n",
    "num2 = int(input(\"Enter 2nd number\"))\n",
    "num3 = int(input(\"Enter 3rd number\"))\n",
    "if num1 >= num2 and num1 >= num3:\n",
    "    largest = num1\n",
    "elif num2 >= num1 and num2 >= num3:\n",
    "    largest = num2\n",
    "else:\n",
    "    largest = num3\n",
    "print(\"The largest number is:\",largest)"
   ]
  },
  {
   "cell_type": "code",
   "execution_count": 10,
   "id": "f45aa112-a9d5-441f-bce7-f11a09985329",
   "metadata": {},
   "outputs": [
    {
     "name": "stdin",
     "output_type": "stream",
     "text": [
      "Enter a character:  l\n"
     ]
    },
    {
     "name": "stdout",
     "output_type": "stream",
     "text": [
      "l is a consonant\n"
     ]
    }
   ],
   "source": [
    "#8. Develop a program that checks whether a character is a vowel or a consonant.\n",
    "char = input(\"Enter a character: \")\n",
    "char = char.lower()\n",
    "if len(char) == 1:\n",
    "    if char in 'aeiou':\n",
    "        print(char,\"is a vowel.\")\n",
    "    else:\n",
    "        print(char,\"is a consonant\")\n",
    "else:\n",
    "    print(\"Please enter a single character\")"
   ]
  },
  {
   "cell_type": "code",
   "execution_count": 14,
   "id": "3309a667-d3bc-4eeb-afbb-a9e92a5f4fec",
   "metadata": {},
   "outputs": [
    {
     "name": "stdout",
     "output_type": "stream",
     "text": [
      "Available items:\n",
      "item1: $10.99\n",
      "item2: $5.99\n",
      "item3: $7.49\n",
      "item4: $12.99\n"
     ]
    },
    {
     "name": "stdin",
     "output_type": "stream",
     "text": [
      "Enter an item (or 'done' to finish shopping):  item1\n",
      "Enter the quantity of item1:  30\n",
      "Enter an item (or 'done' to finish shopping):  done\n"
     ]
    },
    {
     "name": "stdout",
     "output_type": "stream",
     "text": [
      "Total cost after discounts: $296.73\n"
     ]
    }
   ],
   "source": [
    "#9. Create a program to calculate the total cost of a shopping cart based on discounts.\n",
    "items = {\n",
    "    \"item1\": 10.99,\n",
    "    \"item2\": 5.99,\n",
    "    \"item3\": 7.49,\n",
    "    \"item4\": 12.99,\n",
    "}\n",
    "total_cost = 0.0\n",
    "print(\"Available items:\")\n",
    "for item, price in items.items():\n",
    "    print(f\"{item}: ${price:.2f}\")\n",
    "while True:\n",
    "    item = input(\"Enter an item (or 'done' to finish shopping): \")\n",
    "    if item == 'done':\n",
    "        break\n",
    "    \n",
    "    if item in items:\n",
    "        quantity = int(input(f\"Enter the quantity of {item}: \"))\n",
    "        if quantity < 0:\n",
    "            print(\"Quantity cannot be negative. Please try again.\")\n",
    "            continue\n",
    "        \n",
    "        total_cost += items[item] * quantity\n",
    "    else:\n",
    "        print(\"Item not found. Please choose an available item.\")\n",
    "\n",
    "if total_cost >= 50:\n",
    "    total_cost *= 0.9  \n",
    "print(f\"Total cost after discounts: ${total_cost:.2f}\")\n"
   ]
  },
  {
   "cell_type": "code",
   "execution_count": 31,
   "id": "8efa2008-5794-4d2d-b3ad-c1aed45e2fd6",
   "metadata": {},
   "outputs": [
    {
     "name": "stdin",
     "output_type": "stream",
     "text": [
      "Enter number : 7\n"
     ]
    },
    {
     "name": "stdout",
     "output_type": "stream",
     "text": [
      "7 is odd\n"
     ]
    }
   ],
   "source": [
    "#10 program that checks if a given number is even or odd\n",
    "num=int(input(\"Enter number :\"))\n",
    "if num%2==0:\n",
    "    print(num,\"is even\")\n",
    "else:\n",
    "    print(num,\"is odd\")"
   ]
  },
  {
   "cell_type": "code",
   "execution_count": null,
   "id": "f481de75-e5a1-4aad-9b4e-cae4e0ad96d5",
   "metadata": {},
   "outputs": [],
   "source": [
    "# Intermediate Level:\n"
   ]
  },
  {
   "cell_type": "code",
   "execution_count": 2,
   "id": "e911965e-3a5e-45af-8026-f59353682222",
   "metadata": {},
   "outputs": [
    {
     "name": "stdin",
     "output_type": "stream",
     "text": [
      "Enter coefficient a:  2\n",
      "Enter coefficient b:  6\n",
      "Enter coefficient c:  8\n"
     ]
    },
    {
     "name": "stdout",
     "output_type": "stream",
     "text": [
      "Root 1:  (-1.5+1.3228756555322954j)\n",
      "Root 2:  (-1.5-1.3228756555322954j)\n"
     ]
    }
   ],
   "source": [
    "# 11 program that calculates the roots of a quadratic equation \n",
    "\n",
    "import math\n",
    "a = float(input(\"Enter coefficient a: \"))\n",
    "b = float(input(\"Enter coefficient b: \"))\n",
    "c = float(input(\"Enter coefficient c: \"))\n",
    "D = b**2 - 4*a*c\n",
    "if D > 0:\n",
    "    root1 = (-b + math.sqrt(D)) / (2*a)\n",
    "    root2 = (-b - math.sqrt(D)) / (2*a)\n",
    "    print(\"Root 1: \",root1)\n",
    "    print(\"Root 2: \",root2)\n",
    "elif D == 0:\n",
    "    root = -b / (2*a)\n",
    "    print(\"Root: \",root)\n",
    "else:\n",
    "    real_part = -b / (2*a)\n",
    "    imaginary_part = math.sqrt(-D) / (2*a)\n",
    "    root1 = complex(real_part, imaginary_part)\n",
    "    root2 = complex(real_part, -imaginary_part)\n",
    "    print(\"Root 1: \",root1)\n",
    "    print(\"Root 2: \",root2)\n"
   ]
  },
  {
   "cell_type": "code",
   "execution_count": 5,
   "id": "b806d291-596d-4334-a0d8-08e81041eb13",
   "metadata": {},
   "outputs": [
    {
     "name": "stdin",
     "output_type": "stream",
     "text": [
      "Enter a number :  5\n"
     ]
    },
    {
     "name": "stdout",
     "output_type": "stream",
     "text": [
      "The day corresponding to  5  is  Friday\n"
     ]
    }
   ],
   "source": [
    "# 12 program that determines the day of the week based on the day number (1-7)\n",
    "\n",
    "day_number = int(input(\"Enter a number : \"))\n",
    "if day_number == 1: \n",
    "    day_name = \"Monday\"\n",
    "elif day_number == 2:\n",
    "    day_name = \"Tuesday\"\n",
    "elif day_number == 3:\n",
    "    day_name = \"Wednesday\"\n",
    "elif day_number == 4:\n",
    "    day_name = \"Thursday\"\n",
    "elif day_number == 5:\n",
    "    day_name = \"Friday\"\n",
    "elif day_number == 6:\n",
    "    day_name = \"Saturday\"\n",
    "elif day_number == 7:\n",
    "    day_name = \"Sunday\"\n",
    "else:\n",
    "    day_name = \"Invalid input (please enter a number between 1 and 7)\"\n",
    "print(\"The day corresponding to \",day_number,\" is \",day_name)"
   ]
  },
  {
   "cell_type": "code",
   "execution_count": 6,
   "id": "e1c31a3d-62c3-4ec7-ab7c-d2020ea087e5",
   "metadata": {},
   "outputs": [
    {
     "name": "stdin",
     "output_type": "stream",
     "text": [
      "Enter a non-negative integer:  6\n"
     ]
    },
    {
     "name": "stdout",
     "output_type": "stream",
     "text": [
      "The factorial of 6 is 720\n"
     ]
    }
   ],
   "source": [
    "# 13 a program that calculates the factorial of a given number using recursion\n",
    "\n",
    "def factorial(n):\n",
    "    if n == 0:\n",
    "        return 1\n",
    "    else:\n",
    "        return n * factorial(n - 1)\n",
    "num = int(input(\"Enter a non-negative integer: \"))\n",
    "if num < 0:\n",
    "    print(\"Factorial is not defined for negative numbers.\")\n",
    "elif num == 0:\n",
    "    print(\"The factorial of 0 is 1\")\n",
    "else:\n",
    "    result = factorial(num)\n",
    "    print(f\"The factorial of {num} is {result}\")"
   ]
  },
  {
   "cell_type": "code",
   "execution_count": 8,
   "id": "cdbbd518-12eb-4eac-86b5-587d79e24069",
   "metadata": {},
   "outputs": [
    {
     "name": "stdin",
     "output_type": "stream",
     "text": [
      "Enter the first number:  8\n",
      "Enter the second number:  4\n",
      "Enter the third number:  6\n"
     ]
    },
    {
     "name": "stdout",
     "output_type": "stream",
     "text": [
      "The largest number among  8.0 4.0  and  6.0  is 8.0\n"
     ]
    }
   ],
   "source": [
    "# 14 program to find the largest among three numbers without using the `max()` function\n",
    "\n",
    "num1 = float(input(\"Enter the first number: \"))\n",
    "num2 = float(input(\"Enter the second number: \"))\n",
    "num3 = float(input(\"Enter the third number: \"))\n",
    "if num1 >= num2 and num1 >= num3:\n",
    "    largest = num1\n",
    "elif num2 >= num1 and num2 >= num3:\n",
    "    largest = num2\n",
    "else:\n",
    "    largest = num3\n",
    "print(\"The largest number among \",num1,num2,\" and \",num3,\" is\", largest)"
   ]
  },
  {
   "cell_type": "code",
   "execution_count": 10,
   "id": "fd218cc9-c826-4bfe-b1ed-5473666d7f0f",
   "metadata": {},
   "outputs": [
    {
     "name": "stdout",
     "output_type": "stream",
     "text": [
      "\n",
      "ATM Menu:\n",
      "1. Check Balance\n",
      "2. Deposit\n",
      "3. Withdraw\n",
      "4. Exit\n"
     ]
    },
    {
     "name": "stdin",
     "output_type": "stream",
     "text": [
      "Enter your choice (1/2/3/4):  3\n",
      "Enter the withdrawal amount: $ 400\n"
     ]
    },
    {
     "name": "stdout",
     "output_type": "stream",
     "text": [
      "Withdrew $ 400.0 Your new balance is $ 600.0\n",
      "\n",
      "ATM Menu:\n",
      "1. Check Balance\n",
      "2. Deposit\n",
      "3. Withdraw\n",
      "4. Exit\n"
     ]
    },
    {
     "name": "stdin",
     "output_type": "stream",
     "text": [
      "Enter your choice (1/2/3/4):  4\n"
     ]
    },
    {
     "name": "stdout",
     "output_type": "stream",
     "text": [
      "Thank you for using the ATM. Goodbye!\n"
     ]
    }
   ],
   "source": [
    "# 15 program that simulates a basic ATM transaction menu\n",
    "\n",
    "balance = 1000\n",
    "while True:\n",
    "    print(\"\\nATM Menu:\")\n",
    "    print(\"1. Check Balance\")\n",
    "    print(\"2. Deposit\")\n",
    "    print(\"3. Withdraw\")\n",
    "    print(\"4. Exit\")\n",
    "    choice = input(\"Enter your choice (1/2/3/4): \")\n",
    "    if choice == '1':\n",
    "        print(\"Your balance is $\",balance)\n",
    "    elif choice == '2':\n",
    "        deposit = float(input(\"Enter the deposit amount: $\"))\n",
    "        if deposit > 0:\n",
    "            balance += deposit\n",
    "            print(\"Deposited $\",deposit,\" Your new balance is $\",balance)\n",
    "        else:\n",
    "            print(\"Invalid amount. Please enter a positive value.\")\n",
    "    elif choice == '3':\n",
    "        withdrawal = float(input(\"Enter the withdrawal amount: $\"))\n",
    "        if withdrawal > 0 and withdrawal <= balance:\n",
    "            balance -= withdrawal\n",
    "            print(\"Withdrew $\",withdrawal,\"Your new balance is $\",balance)\n",
    "        elif withdrawal <= 0:\n",
    "            print(\"Invalid amount. Please enter a positive value.\")\n",
    "        else:\n",
    "            print(\"Insufficient funds.\")\n",
    "    elif choice == '4':\n",
    "        print(\"Thank you for using the ATM. Goodbye!\")\n",
    "        break\n",
    "    else:\n",
    "        print(\"Invalid choice. Please select a valid option (1/2/3/4).\")\n"
   ]
  },
  {
   "cell_type": "code",
   "execution_count": 5,
   "id": "d0c5d23b-2155-40a6-a6bb-de269b336463",
   "metadata": {},
   "outputs": [
    {
     "name": "stdin",
     "output_type": "stream",
     "text": [
      "Enter string : madam\n"
     ]
    },
    {
     "name": "stdout",
     "output_type": "stream",
     "text": [
      "madam  is a Palindrome\n"
     ]
    }
   ],
   "source": [
    "# 16 program that checks if a given string is a palindrome or not\n",
    "\n",
    "input_str=input(\"Enter string :\")\n",
    "if input_str==input_str[::-1] :\n",
    "    print(input_str,\" is a Palindrome\")\n",
    "else:\n",
    "    print(input_str,\"is not a Palindrome\")"
   ]
  },
  {
   "cell_type": "code",
   "execution_count": 6,
   "id": "7db959ce-bef5-4edb-b0c9-38a08ddec60f",
   "metadata": {},
   "outputs": [
    {
     "name": "stdout",
     "output_type": "stream",
     "text": [
      "Average (excluding smallest and largest): 34.142857142857146\n"
     ]
    }
   ],
   "source": [
    "# 17 program that calculates the average of a list of numbers, excluding the smallest and largest values\n",
    "\n",
    "numbers = [12, 45, 6, 23, 67, 3, 89, 54, 32]\n",
    "smallest = min(numbers)\n",
    "largest = max(numbers)\n",
    "numbers.remove(smallest)\n",
    "numbers.remove(largest)\n",
    "total = sum(numbers)\n",
    "average = total / len(numbers)\n",
    "print(\"Average (excluding smallest and largest):\", average)"
   ]
  },
  {
   "cell_type": "code",
   "execution_count": 2,
   "id": "2bb9ec83-296c-4e5f-ba11-7f60d06d36e2",
   "metadata": {},
   "outputs": [
    {
     "name": "stdin",
     "output_type": "stream",
     "text": [
      "Enter temperature : 45\n"
     ]
    },
    {
     "name": "stdout",
     "output_type": "stream",
     "text": [
      "45.0 celsius is equal to 113.0 fahrenheit\n"
     ]
    }
   ],
   "source": [
    "# 18 program that converts a given temperature from Celsius to Fahrenheit\n",
    "\n",
    "celsius_temp=float(input(\"Enter temperature :\"))\n",
    "fahrenheit_temp=(celsius_temp*(9/5))+32\n",
    "print(celsius_temp,\"celsius is equal to\",fahrenheit_temp, \"fahrenheit\")\n",
    "         "
   ]
  },
  {
   "cell_type": "code",
   "execution_count": 3,
   "id": "8295b301-48a6-4533-9592-8efc7f74245f",
   "metadata": {},
   "outputs": [
    {
     "name": "stdin",
     "output_type": "stream",
     "text": [
      "Enter the first number:  3\n",
      "Enter the second number:  6\n",
      "Enter operation:  *\n"
     ]
    },
    {
     "name": "stdout",
     "output_type": "stream",
     "text": [
      "Result:  3.0 * 6.0  =  18.0\n"
     ]
    }
   ],
   "source": [
    "# 19 program that simulates a basic calculator for addition, subtraction, multiplication, and division\n",
    "\n",
    "num1 = float(input(\"Enter the first number: \"))\n",
    "num2 = float(input(\"Enter the second number: \"))\n",
    "operation = input(\"Enter operation: \")\n",
    "if operation == '+':\n",
    "    result = num1 + num2\n",
    "elif operation == '-':\n",
    "    result = num1 - num2\n",
    "elif operation == '*':\n",
    "    result = num1 * num2\n",
    "elif operation == '/':\n",
    "    if num2 == 0:\n",
    "        print(\"Error: Division by zero is not allowed.\")\n",
    "    else:\n",
    "        result = num1 / num2\n",
    "else:\n",
    "    print(\"Invalid operation. Please enter +, -, *, or /.\")\n",
    "print(\"Result: \",num1, operation,num2,\" = \",result)"
   ]
  },
  {
   "cell_type": "code",
   "execution_count": 4,
   "id": "c70297ea-de7a-43a4-b46a-faca3527086b",
   "metadata": {},
   "outputs": [
    {
     "name": "stdin",
     "output_type": "stream",
     "text": [
      "Enter coefficient a:  3\n",
      "Enter coefficient b:  2\n",
      "Enter coefficient c:  3\n",
      "Enter coefficient d:  6\n"
     ]
    },
    {
     "name": "stdout",
     "output_type": "stream",
     "text": [
      "Root 1: (0.6202824371715218+1.0558736751650566j)\n",
      "Root 2: (-0.8586066781313019-1.4423502634627057j)\n",
      "Root 3: (-0.20612020348466442+0.38647658829764897j)\n"
     ]
    }
   ],
   "source": [
    "# 20 program that determines the roots of a cubic equation using the Cardano formula\n",
    "\n",
    "import math\n",
    "a = float(input(\"Enter coefficient a: \"))\n",
    "b = float(input(\"Enter coefficient b: \"))\n",
    "c = float(input(\"Enter coefficient c: \"))\n",
    "d = float(input(\"Enter coefficient d: \"))\n",
    "# Calculate intermediate values needed for Cardano's formula\n",
    "p = (3 * a * c - b**2) / (3 * a**2)\n",
    "q = (2 * b**3 - 9 * a * b * c + 27 * a**2 * d) / (27 * a**3)\n",
    "discriminant = (q / 2)**2 + (p / 3)**3\n",
    "if discriminant > 0:\n",
    "    u = (-q / 2 + discriminant**0.5)**(1/3)\n",
    "    v = (-q / 2 - discriminant**0.5)**(1/3)\n",
    "    real_root = u + v\n",
    "    imaginary_root = (u - v) * (3**0.5) / 2\n",
    "    root1 = real_root - b / (3 * a)\n",
    "    root2 = -0.5 * (real_root + b / (3 * a)) + imaginary_root\n",
    "    root3 = -0.5 * (real_root + b / (3 * a)) - imaginary_root\n",
    "else:\n",
    "    if discriminant == 0:\n",
    "        if q < 0:\n",
    "            u = (-q / 2)**(1/3)\n",
    "            root1 = 2 * u - b / (3 * a)\n",
    "            root2 = -u - b / (3 * a)\n",
    "            root3 = root2\n",
    "        else:\n",
    "            u = (q / 2)**(1/3)\n",
    "            root1 = -2 * u - b / (3 * a)\n",
    "            root2 = u - b / (3 * a)\n",
    "            root3 = root2\n",
    "    else:\n",
    "        rho = (-q / 2)**0.5\n",
    "        theta = math.acos(-(p / (2 * rho**3)))\n",
    "        root1 = 2 * rho**(1/3) * math.cos(theta / 3) - b / (3 * a)\n",
    "        root2 = 2 * rho**(1/3) * math.cos((theta + 2 * math.pi) / 3) - b / (3 * a)\n",
    "        root3 = 2 * rho**(1/3) * math.cos((theta + 4 * math.pi) / 3) - b / (3 * a)\n",
    "print(\"Root 1:\", root1)\n",
    "print(\"Root 2:\", root2)\n",
    "print(\"Root 3:\", root3)"
   ]
  },
  {
   "cell_type": "code",
   "execution_count": 6,
   "id": "ab2ac3f7-b72c-48be-8e34-c45f1a92c78b",
   "metadata": {},
   "outputs": [],
   "source": [
    "# Advanced Level:\n"
   ]
  },
  {
   "cell_type": "code",
   "execution_count": 8,
   "id": "fb733b18-9a9d-4fef-a366-e7f49a38dc26",
   "metadata": {},
   "outputs": [
    {
     "name": "stdin",
     "output_type": "stream",
     "text": [
      "Enter your annual income:  35000\n"
     ]
    },
    {
     "name": "stdout",
     "output_type": "stream",
     "text": [
      "Your annual income tax is: $ 6000.0\n"
     ]
    }
   ],
   "source": [
    "# 21 program that calculates the income tax based on the user's income and tax brackets\n",
    "\n",
    "tax_brackets = [\n",
    "    (10000, 0.10),\n",
    "    (30000, 0.20),\n",
    "    (70000, 0.30),\n",
    "    (float('inf'), 0.40)\n",
    "]\n",
    "income = float(input(\"Enter your annual income: \"))\n",
    "total_tax = 0\n",
    "income_left = income\n",
    "for upper_limit, tax_rate in tax_brackets:\n",
    "    if income_left <= 0:\n",
    "        break\n",
    "    if income_left <= upper_limit:\n",
    "        taxable_income = income_left\n",
    "    else:\n",
    "        taxable_income = upper_limit\n",
    "    tax = taxable_income * tax_rate\n",
    "    total_tax += tax\n",
    "    income_left -= taxable_income\n",
    "print(\"Your annual income tax is: $\",total_tax)"
   ]
  },
  {
   "cell_type": "code",
   "execution_count": 13,
   "id": "4a185902-fc2f-49ff-81cd-497f282b56df",
   "metadata": {},
   "outputs": [
    {
     "name": "stdin",
     "output_type": "stream",
     "text": [
      "Choose rock, paper, or scissors:  rock\n"
     ]
    },
    {
     "name": "stdout",
     "output_type": "stream",
     "text": [
      "Computer chooses:  scissors\n",
      "You win!\n"
     ]
    }
   ],
   "source": [
    "# 22 program that simulates a rock-paper-scissors game against the computer\n",
    "\n",
    "import random\n",
    "choices = [\"rock\", \"paper\", \"scissors\"]\n",
    "user_choice = input(\"Choose rock, paper, or scissors: \").lower()\n",
    "if user_choice not in choices:\n",
    "    print(\"Invalid choice. Please choose rock, paper, or scissors.\")\n",
    "else:\n",
    "    computer_choice = random.choice(choices)\n",
    "    print(\"Computer chooses: \",computer_choice)\n",
    "    if user_choice == computer_choice:\n",
    "        print(\"It's a tie!\")\n",
    "    elif (\n",
    "        (user_choice == \"rock\" and computer_choice == \"scissors\") or\n",
    "        (user_choice == \"scissors\" and computer_choice == \"paper\") or\n",
    "        (user_choice == \"paper\" and computer_choice == \"rock\")\n",
    "    ):\n",
    "        print(\"You win!\")\n",
    "    else:\n",
    "        print(\"Computer wins!\")"
   ]
  },
  {
   "cell_type": "code",
   "execution_count": 15,
   "id": "3644b874-3082-4db2-8458-c7614feffcd5",
   "metadata": {},
   "outputs": [
    {
     "name": "stdin",
     "output_type": "stream",
     "text": [
      "Enter the desired password length:  6\n",
      "Enter complexity preference (simple/strong):  strong\n"
     ]
    },
    {
     "name": "stdout",
     "output_type": "stream",
     "text": [
      "Generated Password: FG]Atp\n"
     ]
    }
   ],
   "source": [
    "# 23 program that generates a random password based on user preferences (length, complexity)\n",
    "\n",
    "import random\n",
    "import string\n",
    "def generate_password(length, complex_chars):\n",
    "    if complex_chars == 'strong':\n",
    "        characters = string.ascii_letters + string.digits + string.punctuation\n",
    "    else:\n",
    "        characters = string.ascii_letters + string.digits\n",
    "    password = ''.join(random.choice(characters) for _ in range(length))\n",
    "    return password\n",
    "length = int(input(\"Enter the desired password length: \"))\n",
    "complexity = input(\"Enter complexity preference (simple/strong): \").lower()\n",
    "if complexity not in ['simple', 'strong']:\n",
    "    print(\"Invalid complexity preference. Please choose 'simple' or 'strong'.\")\n",
    "else:\n",
    "    password = generate_password(length, complexity)\n",
    "    print(\"Generated Password:\", password)"
   ]
  },
  {
   "cell_type": "code",
   "execution_count": 16,
   "id": "d45d0e22-22a2-43a7-8edb-de582f4726ba",
   "metadata": {},
   "outputs": [
    {
     "name": "stdout",
     "output_type": "stream",
     "text": [
      "Welcome to the Text-Based Adventure Game!\n",
      "\n",
      "You find yourself in a dark forest. You have two paths to choose from:\n"
     ]
    },
    {
     "name": "stdin",
     "output_type": "stream",
     "text": [
      "Enter '1' to take the left path or '2' to take the right path:  2\n"
     ]
    },
    {
     "name": "stdout",
     "output_type": "stream",
     "text": [
      "\n",
      "You take the right path and encounter a hungry bear.\n",
      "Sorry, you've been eaten by the bear. Game over!\n",
      "\n",
      "You wake up in a mysterious room with three doors in front of you.\n"
     ]
    },
    {
     "name": "stdin",
     "output_type": "stream",
     "text": [
      "Enter '1' to go through the red door, '2' for the blue door, or '3' for the green door:  3\n"
     ]
    },
    {
     "name": "stdout",
     "output_type": "stream",
     "text": [
      "\n",
      "You choose the green door and find a room filled with treasure!\n",
      "Congratulations! You're wealthy!\n",
      "\n",
      "Thanks for playing the Text-Based Adventure Game. Goodbye!\n"
     ]
    }
   ],
   "source": [
    "# 24 program that implements a simple text-based adventure game with branching scenarios\n",
    "\n",
    "print(\"Welcome to the Text-Based Adventure Game!\")\n",
    "# Scenario 1\n",
    "print(\"\\nYou find yourself in a dark forest. You have two paths to choose from:\")\n",
    "choice1 = input(\"Enter '1' to take the left path or '2' to take the right path: \")\n",
    "if choice1 == '1':\n",
    "    print(\"\\nYou follow the left path and discover a hidden treasure chest!\")\n",
    "    print(\"Congratulations! You're rich!\")\n",
    "else:\n",
    "    print(\"\\nYou take the right path and encounter a hungry bear.\")\n",
    "    print(\"Sorry, you've been eaten by the bear. Game over!\")\n",
    "# Scenario 2\n",
    "print(\"\\nYou wake up in a mysterious room with three doors in front of you.\")\n",
    "choice2 = input(\"Enter '1' to go through the red door, '2' for the blue door, or '3' for the green door: \")\n",
    "if choice2 == '1':\n",
    "    print(\"\\nYou step through the red door and find yourself in a beautiful garden.\")\n",
    "    print(\"You enjoy the serene surroundings and have a peaceful time.\")\n",
    "elif choice2 == '2':\n",
    "    print(\"\\nYou open the blue door and suddenly fall into a pit!\")\n",
    "    print(\"You are trapped. Game over!\")\n",
    "else:\n",
    "    print(\"\\nYou choose the green door and find a room filled with treasure!\")\n",
    "    print(\"Congratulations! You're wealthy!\")\n",
    "print(\"\\nThanks for playing the Text-Based Adventure Game. Goodbye!\")"
   ]
  },
  {
   "cell_type": "code",
   "execution_count": 17,
   "id": "5db094fa-b355-48c0-b700-0b5a59e57d2e",
   "metadata": {},
   "outputs": [
    {
     "name": "stdin",
     "output_type": "stream",
     "text": [
      "Enter coefficient 'a':  3\n",
      "Enter coefficient 'b':  6\n"
     ]
    },
    {
     "name": "stdout",
     "output_type": "stream",
     "text": [
      "The solution for the linear equation  3.0 x  +  6.0  = 0 is x = \n"
     ]
    }
   ],
   "source": [
    "# 25 program that solves a linear equation for x, considering different cases\n",
    "\n",
    "a = float(input(\"Enter coefficient 'a': \"))\n",
    "b = float(input(\"Enter coefficient 'b': \"))\n",
    "if a == 0:\n",
    "    if b == 0:\n",
    "        print(\"Infinite solutions (0x = 0)\")\n",
    "    else:\n",
    "        print(\"No solution (0x + b = 0 where b is not 0)\")\n",
    "else:\n",
    "    x = -b / a\n",
    "    print(\"The solution for the linear equation \",a,\"x\",\" + \",b,\" = 0 is x = \")"
   ]
  },
  {
   "cell_type": "code",
   "execution_count": 21,
   "id": "2d578ab6-a607-42fe-815c-dba4dd35b5de",
   "metadata": {},
   "outputs": [
    {
     "name": "stdout",
     "output_type": "stream",
     "text": [
      "Question  1 : What is the capital of France?\n",
      "A) London\n",
      "B) Berlin\n",
      "C) Paris\n",
      "D) Madrid\n"
     ]
    },
    {
     "name": "stdin",
     "output_type": "stream",
     "text": [
      "Enter your answer (A/B/C/D):  C\n"
     ]
    },
    {
     "name": "stdout",
     "output_type": "stream",
     "text": [
      "Correct!\n",
      "\n",
      "Question  2 : Which planet is known as the Red Planet?\n",
      "A) Earth\n",
      "B) Mars\n",
      "C) Venus\n",
      "D) Jupiter\n"
     ]
    },
    {
     "name": "stdin",
     "output_type": "stream",
     "text": [
      "Enter your answer (A/B/C/D):  B\n"
     ]
    },
    {
     "name": "stdout",
     "output_type": "stream",
     "text": [
      "Correct!\n",
      "\n",
      "Question  3 : What is the largest mammal in the world?\n",
      "A) Elephant\n",
      "B) Blue Whale\n",
      "C) Giraffe\n",
      "D) Lion\n"
     ]
    },
    {
     "name": "stdin",
     "output_type": "stream",
     "text": [
      "Enter your answer (A/B/C/D):  B\n"
     ]
    },
    {
     "name": "stdout",
     "output_type": "stream",
     "text": [
      "Correct!\n",
      "\n",
      "Quiz completed! Your score is  3  out of  3\n"
     ]
    }
   ],
   "source": [
    "# 26 program that simulates a basic quiz game with multiple-choice questions and scoring\n",
    "\n",
    "questions = [\n",
    "    {\n",
    "        'question': 'What is the capital of France?',\n",
    "        'options': ['A) London', 'B) Berlin', 'C) Paris', 'D) Madrid'],\n",
    "        'answer': 'C'\n",
    "    },\n",
    "    {\n",
    "        'question': 'Which planet is known as the Red Planet?',\n",
    "        'options': ['A) Earth', 'B) Mars', 'C) Venus', 'D) Jupiter'],\n",
    "        'answer': 'B'\n",
    "    },\n",
    "    {\n",
    "        'question': 'What is the largest mammal in the world?',\n",
    "        'options': ['A) Elephant', 'B) Blue Whale', 'C) Giraffe', 'D) Lion'],\n",
    "        'answer': 'B'\n",
    "    }\n",
    "]\n",
    "score = 0\n",
    "for i, question in enumerate(questions, start=1):\n",
    "    print(\"Question \",i,\":\" ,question['question'])\n",
    "    for option in question['options']:\n",
    "        print(option)\n",
    "    user_answer = input(\"Enter your answer (A/B/C/D): \").upper()\n",
    "    if user_answer == question['answer']:\n",
    "        print(\"Correct!\\n\")\n",
    "        score += 1\n",
    "    else:\n",
    "        print(\"Wrong! The correct answer is \",question['answer'])\n",
    "print(\"Quiz completed! Your score is \",score,\" out of \",len(questions))\n"
   ]
  },
  {
   "cell_type": "code",
   "execution_count": 22,
   "id": "4b189fa0-5679-49bf-bce5-f4371f0a652d",
   "metadata": {},
   "outputs": [
    {
     "name": "stdin",
     "output_type": "stream",
     "text": [
      "Enter a year:  2003\n"
     ]
    },
    {
     "name": "stdout",
     "output_type": "stream",
     "text": [
      "2003  is a prime year.\n"
     ]
    }
   ],
   "source": [
    "# 27 program that determines whether a given year is a prime number or not\n",
    "\n",
    "year = int(input(\"Enter a year: \"))\n",
    "if year < 2:\n",
    "    is_prime = False\n",
    "else:\n",
    "    is_prime = True\n",
    "    for i in range(2, int(year**0.5) + 1):\n",
    "        if year % i == 0:\n",
    "            is_prime = False\n",
    "            break\n",
    "if is_prime:\n",
    "    print(year,\" is a prime year.\")\n",
    "else:\n",
    "    print(year,\" is not a prime year.\")"
   ]
  },
  {
   "cell_type": "code",
   "execution_count": 23,
   "id": "c513e458-39cf-4c04-8db1-d55001ffc6f2",
   "metadata": {},
   "outputs": [
    {
     "name": "stdin",
     "output_type": "stream",
     "text": [
      "Enter the first number:  3\n",
      "Enter the second number:  6\n",
      "Enter the third number:  5\n"
     ]
    },
    {
     "name": "stdout",
     "output_type": "stream",
     "text": [
      "Sorted numbers in ascending order: 3.0 5.0 6.0\n"
     ]
    }
   ],
   "source": [
    "# 28 program that sorts three numbers in ascending order using conditional statements\n",
    "\n",
    "num1 = float(input(\"Enter the first number: \"))\n",
    "num2 = float(input(\"Enter the second number: \"))\n",
    "num3 = float(input(\"Enter the third number: \"))\n",
    "if num1 <= num2 <= num3:\n",
    "    sorted_num1, sorted_num2, sorted_num3 = num1, num2, num3\n",
    "elif num1 <= num3 <= num2:\n",
    "    sorted_num1, sorted_num2, sorted_num3 = num1, num3, num2\n",
    "elif num2 <= num1 <= num3:\n",
    "    sorted_num1, sorted_num2, sorted_num3 = num2, num1, num3\n",
    "elif num2 <= num3 <= num1:\n",
    "    sorted_num1, sorted_num2, sorted_num3 = num2, num3, num1\n",
    "elif num3 <= num1 <= num2:\n",
    "    sorted_num1, sorted_num2, sorted_num3 = num3, num1, num2\n",
    "else:\n",
    "    sorted_num1, sorted_num2, sorted_num3 = num3, num2, num1\n",
    "print(\"Sorted numbers in ascending order:\", sorted_num1, sorted_num2, sorted_num3)"
   ]
  },
  {
   "cell_type": "markdown",
   "id": "d42b9587-251f-41f4-a380-661a657b22cb",
   "metadata": {},
   "source": [
    "### 29 program that determines the roots of a quartic equation using numerical methods\n",
    "\n",
    "import math\n",
    "a = float(input(\"Enter coefficient 'a': \"))\n",
    "b = float(input(\"Enter coefficient 'b': \"))\n",
    "c = float(input(\"Enter coefficient 'c': \"))\n",
    "discriminant = b**2 - 4 * a * c\n",
    "if discriminant > 0:\n",
    "    # Two real and distinct roots\n",
    "    root1 = (-b + math.sqrt(discriminant)) / (2 * a)\n",
    "    root2 = (-b - math.sqrt(discriminant)) / (2 * a)\n",
    "    print(\"The roots are real and distinct: \",root1,\" and \",root2)\n",
    "elif discriminant == 0:\n",
    "    # One real root (double root)\n",
    "    root1 = -b / (2 * a)\n",
    "    print(\"There is one real root (double root): \",root1)\n",
    "else:\n",
    "    # Complex roots\n",
    "    real_part = -b / (2 * a)\n",
    "    imaginary_part = math.sqrt(-discriminant) / (2 * a)\n",
    "    print(\"The roots are complex: \",real_part + imaginary_part ,\"and \",real_part - imaginary_part)\n"
   ]
  },
  {
   "cell_type": "code",
   "execution_count": 27,
   "id": "67011f09-295d-4df9-bd78-7d6bb6a3b9e8",
   "metadata": {},
   "outputs": [
    {
     "name": "stdin",
     "output_type": "stream",
     "text": [
      "Enter coefficient 'a':  2\n",
      "Enter coefficient 'b':  5\n",
      "Enter coefficient 'c':  7\n"
     ]
    },
    {
     "name": "stdout",
     "output_type": "stream",
     "text": [
      "The roots are complex:  0.14194109070750538 and  -2.6419410907075056\n"
     ]
    }
   ],
   "source": [
    "# 29 program that determines the roots of a quartic equation using numerical methods\n",
    "\n",
    "import math\n",
    "a = float(input(\"Enter coefficient 'a': \"))\n",
    "b = float(input(\"Enter coefficient 'b': \"))\n",
    "c = float(input(\"Enter coefficient 'c': \"))\n",
    "discriminant = b**2 - 4 * a * c\n",
    "if discriminant > 0:\n",
    "    # Two real and distinct roots\n",
    "    root1 = (-b + math.sqrt(discriminant)) / (2 * a)\n",
    "    root2 = (-b - math.sqrt(discriminant)) / (2 * a)\n",
    "    print(\"The roots are real and distinct: \",root1,\" and \",root2)\n",
    "elif discriminant == 0:\n",
    "    # One real root (double root)\n",
    "    root1 = -b / (2 * a)\n",
    "    print(\"There is one real root (double root): \",root1)\n",
    "else:\n",
    "    # Complex roots\n",
    "    real_part = -b / (2 * a)\n",
    "    imaginary_part = math.sqrt(-discriminant) / (2 * a)\n",
    "    print(\"The roots are complex: \",real_part + imaginary_part ,\"and \",real_part - imaginary_part)"
   ]
  },
  {
   "cell_type": "code",
   "execution_count": 28,
   "id": "a722f557-664f-4002-8fab-dc08744bb913",
   "metadata": {},
   "outputs": [
    {
     "name": "stdin",
     "output_type": "stream",
     "text": [
      "Enter your weight (kg):  56\n",
      "Enter your height (m):  1.8\n"
     ]
    },
    {
     "name": "stdout",
     "output_type": "stream",
     "text": [
      "Your BMI is:  17.28395061728395\n",
      "You are underweight. It's important to maintain a healthy diet.\n"
     ]
    }
   ],
   "source": [
    "# 30 program that calculates the BMI (Body Mass Index) and provides health recommendations based on the user's input\n",
    "\n",
    "weight = float(input(\"Enter your weight (kg): \"))\n",
    "height = float(input(\"Enter your height (m): \"))\n",
    "bmi = weight / (height ** 2)\n",
    "print(\"Your BMI is: \",bmi)\n",
    "if bmi < 18.5:\n",
    "    print(\"You are underweight. It's important to maintain a healthy diet.\")\n",
    "elif 18.5 <= bmi < 24.9:\n",
    "    print(\"Your weight is in the healthy range. Keep up the good work!\")\n",
    "elif 25 <= bmi < 29.9:\n",
    "    print(\"You are overweight. Consider a balanced diet and regular exercise.\")\n",
    "else:\n",
    "    print(\"You are obese. It's important to consult a healthcare professional for guidance.\")"
   ]
  },
  {
   "cell_type": "code",
   "execution_count": null,
   "id": "358be5ad-9847-43a1-9ae4-4d025497c9a9",
   "metadata": {},
   "outputs": [],
   "source": [
    "# Challenge Level:\n"
   ]
  },
  {
   "cell_type": "code",
   "execution_count": 29,
   "id": "6d1d6ade-727e-4e83-81b1-0d4c4873fde2",
   "metadata": {},
   "outputs": [
    {
     "name": "stdin",
     "output_type": "stream",
     "text": [
      "Enter your password:  likki@1983\n"
     ]
    },
    {
     "name": "stdout",
     "output_type": "stream",
     "text": [
      "Password is invalid. Please ensure it meets the complexity rules.\n",
      "- Password must contain at least one uppercase letter.\n"
     ]
    }
   ],
   "source": [
    "# 31 program that validates a password based on complexity rules (length, characters, etc.)\n",
    "\n",
    "password = input(\"Enter your password: \")\n",
    "min_length = 8\n",
    "requires_uppercase = True\n",
    "requires_lowercase = True\n",
    "requires_digit = True\n",
    "requires_special_char = True\n",
    "special_characters = \"!@#$%^&*()_+[]{}|;:,.<>?~\"\n",
    "length_ok = len(password) >= min_length\n",
    "uppercase_ok = any(char.isupper() for char in password)\n",
    "lowercase_ok = any(char.islower() for char in password)\n",
    "digit_ok = any(char.isdigit() for char in password)\n",
    "special_char_ok = any(char in special_characters for char in password)\n",
    "if (\n",
    "    length_ok and\n",
    "    (not requires_uppercase or uppercase_ok) and\n",
    "    (not requires_lowercase or lowercase_ok) and\n",
    "    (not requires_digit or digit_ok) and\n",
    "    (not requires_special_char or special_char_ok)\n",
    "):\n",
    "    print(\"Password is valid.\")\n",
    "else:\n",
    "    print(\"Password is invalid. Please ensure it meets the complexity rules.\")\n",
    "if not length_ok:\n",
    "    print(f\"- Password must be at least {min_length} characters long.\")\n",
    "if requires_uppercase and not uppercase_ok:\n",
    "    print(\"- Password must contain at least one uppercase letter.\")\n",
    "if requires_lowercase and not lowercase_ok:\n",
    "    print(\"- Password must contain at least one lowercase letter.\")\n",
    "if requires_digit and not digit_ok:\n",
    "    print(\"- Password must contain at least one digit.\")\n",
    "if requires_special_char and not special_char_ok:\n",
    "    print(f\"- Password must contain at least one special character from: {special_characters}\")"
   ]
  },
  {
   "cell_type": "code",
   "execution_count": 31,
   "id": "ddcdbe6d-4c4d-4125-9f3b-95249736290d",
   "metadata": {},
   "outputs": [
    {
     "name": "stdin",
     "output_type": "stream",
     "text": [
      "Enter the number of rows:  2\n",
      "Enter the number of columns:  2\n"
     ]
    },
    {
     "name": "stdout",
     "output_type": "stream",
     "text": [
      "Enter elements for the first matrix:\n"
     ]
    },
    {
     "name": "stdin",
     "output_type": "stream",
     "text": [
      "Enter element at row 1, column 1:  3\n",
      "Enter element at row 1, column 2:  6\n",
      "Enter element at row 2, column 1:  8\n",
      "Enter element at row 2, column 2:  6\n"
     ]
    },
    {
     "name": "stdout",
     "output_type": "stream",
     "text": [
      "Enter elements for the second matrix:\n"
     ]
    },
    {
     "name": "stdin",
     "output_type": "stream",
     "text": [
      "Enter element at row 1, column 1:  2\n",
      "Enter element at row 1, column 2:  2\n",
      "Enter element at row 2, column 1:  1\n",
      "Enter element at row 2, column 2:  1\n"
     ]
    },
    {
     "name": "stdout",
     "output_type": "stream",
     "text": [
      "\n",
      "Matrix Addition Result:\n",
      "[5.0, 8.0]\n",
      "[9.0, 7.0]\n",
      "\n",
      "Matrix Subtraction Result:\n",
      "[1.0, 4.0]\n",
      "[7.0, 5.0]\n"
     ]
    }
   ],
   "source": [
    "# 32 program that performs matrix addition and subtraction based on user input\n",
    "\n",
    "rows = int(input(\"Enter the number of rows: \"))\n",
    "cols = int(input(\"Enter the number of columns: \"))\n",
    "print(\"Enter elements for the first matrix:\")\n",
    "matrix1 = []\n",
    "for i in range(rows):\n",
    "    row = []\n",
    "    for j in range(cols):\n",
    "        element = float(input(f\"Enter element at row {i+1}, column {j+1}: \"))\n",
    "        row.append(element)\n",
    "    matrix1.append(row)\n",
    "print(\"Enter elements for the second matrix:\")\n",
    "matrix2 = []\n",
    "for i in range(rows):\n",
    "    row = []\n",
    "    for j in range(cols):\n",
    "        element = float(input(f\"Enter element at row {i+1}, column {j+1}: \"))\n",
    "        row.append(element)\n",
    "    matrix2.append(row)\n",
    "matrix_sum = []\n",
    "matrix_diff = []\n",
    "for i in range(rows):\n",
    "    sum_row = []\n",
    "    diff_row = []\n",
    "    for j in range(cols):\n",
    "        sum_element = matrix1[i][j] + matrix2[i][j]\n",
    "        diff_element = matrix1[i][j] - matrix2[i][j]\n",
    "        sum_row.append(sum_element)\n",
    "        diff_row.append(diff_element)\n",
    "    matrix_sum.append(sum_row)\n",
    "    matrix_diff.append(diff_row)\n",
    "print(\"\\nMatrix Addition Result:\")\n",
    "for row in matrix_sum:\n",
    "    print(row)\n",
    "print(\"\\nMatrix Subtraction Result:\")\n",
    "for row in matrix_diff:\n",
    "    print(row)"
   ]
  },
  {
   "cell_type": "code",
   "execution_count": 32,
   "id": "607a5074-1370-4f36-b7ab-7a573e6d5615",
   "metadata": {},
   "outputs": [
    {
     "name": "stdin",
     "output_type": "stream",
     "text": [
      "Enter the first number:  34\n",
      "Enter the second number:  28\n"
     ]
    },
    {
     "name": "stdout",
     "output_type": "stream",
     "text": [
      "The greatest common divisor (GCD) is:  2\n"
     ]
    }
   ],
   "source": [
    "# 33 program that calculates the greatest common divisor (GCD) of two numbers using the Euclidean algorithm\n",
    "\n",
    "num1 = int(input(\"Enter the first number: \"))\n",
    "num2 = int(input(\"Enter the second number: \"))\n",
    "while num2:\n",
    "    num1, num2 = num2, num1 % num2\n",
    "print(\"The greatest common divisor (GCD) is: \",abs(num1))"
   ]
  },
  {
   "cell_type": "code",
   "execution_count": 33,
   "id": "52576d01-6362-477e-93e2-47ac8fe51a63",
   "metadata": {},
   "outputs": [
    {
     "name": "stdin",
     "output_type": "stream",
     "text": [
      "Enter the number of rows for matrix 1:  2\n",
      "Enter the number of columns for matrix 1:  2\n",
      "Enter the number of rows for matrix 2:  2\n",
      "Enter the number of columns for matrix 2:  2\n"
     ]
    },
    {
     "name": "stdout",
     "output_type": "stream",
     "text": [
      "Enter elements for matrix 1:\n"
     ]
    },
    {
     "name": "stdin",
     "output_type": "stream",
     "text": [
      "Enter element at row 1, column 1:  1\n",
      "Enter element at row 1, column 2:  2\n",
      "Enter element at row 2, column 1:  1\n",
      "Enter element at row 2, column 2:  2\n"
     ]
    },
    {
     "name": "stdout",
     "output_type": "stream",
     "text": [
      "Enter elements for matrix 2:\n"
     ]
    },
    {
     "name": "stdin",
     "output_type": "stream",
     "text": [
      "Enter element at row 1, column 1:  3\n",
      "Enter element at row 1, column 2:  4\n",
      "Enter element at row 2, column 1:  3\n",
      "Enter element at row 2, column 2:  4\n"
     ]
    },
    {
     "name": "stdout",
     "output_type": "stream",
     "text": [
      "\n",
      "Matrix Multiplication Result:\n",
      "[9.0, 12.0]\n",
      "[9.0, 12.0]\n"
     ]
    }
   ],
   "source": [
    "# 34 program that performs matrix multiplication using nested loops and conditional statements\n",
    "\n",
    "rows1 = int(input(\"Enter the number of rows for matrix 1: \"))\n",
    "cols1 = int(input(\"Enter the number of columns for matrix 1: \"))\n",
    "rows2 = int(input(\"Enter the number of rows for matrix 2: \"))\n",
    "cols2 = int(input(\"Enter the number of columns for matrix 2: \"))\n",
    "if cols1 != rows2:\n",
    "    print(\"Matrix multiplication is not possible. The number of columns in matrix 1 must be equal to the number of rows in matrix 2.\")\n",
    "else:\n",
    "    matrix1 = []\n",
    "    matrix2 = []\n",
    "    print(\"Enter elements for matrix 1:\")\n",
    "    for i in range(rows1):\n",
    "        row = []\n",
    "        for j in range(cols1):\n",
    "            element = float(input(f\"Enter element at row {i+1}, column {j+1}: \"))\n",
    "            row.append(element)\n",
    "        matrix1.append(row)\n",
    "    print(\"Enter elements for matrix 2:\")\n",
    "    for i in range(rows2):\n",
    "        row = []\n",
    "        for j in range(cols2):\n",
    "            element = float(input(f\"Enter element at row {i+1}, column {j+1}: \"))\n",
    "            row.append(element)\n",
    "        matrix2.append(row)\n",
    "    result_matrix = [[0 for _ in range(cols2)] for _ in range(rows1)]\n",
    "    for i in range(rows1):\n",
    "        for j in range(cols2):\n",
    "            for k in range(cols1):\n",
    "                result_matrix[i][j] += matrix1[i][k] * matrix2[k][j]\n",
    "    print(\"\\nMatrix Multiplication Result:\")\n",
    "    for row in result_matrix:\n",
    "        print(row)"
   ]
  },
  {
   "cell_type": "code",
   "execution_count": 35,
   "id": "b49c5576-a399-4d3b-97f0-f697386c4f9d",
   "metadata": {},
   "outputs": [
    {
     "name": "stdout",
     "output_type": "stream",
     "text": [
      "  |   |  \n",
      "---------\n",
      "  |   |  \n",
      "---------\n",
      "  |   |  \n"
     ]
    },
    {
     "name": "stdin",
     "output_type": "stream",
     "text": [
      "Enter your move (1-9):  1\n"
     ]
    },
    {
     "name": "stdout",
     "output_type": "stream",
     "text": [
      "X |   |  \n",
      "---------\n",
      "  |   |  \n",
      "---------\n",
      "O |   |  \n"
     ]
    },
    {
     "name": "stdin",
     "output_type": "stream",
     "text": [
      "Enter your move (1-9):  5\n"
     ]
    },
    {
     "name": "stdout",
     "output_type": "stream",
     "text": [
      "X |   |  \n",
      "---------\n",
      "  | X |  \n",
      "---------\n",
      "O |   | O\n"
     ]
    },
    {
     "name": "stdin",
     "output_type": "stream",
     "text": [
      "Enter your move (1-9):  8\n"
     ]
    },
    {
     "name": "stdout",
     "output_type": "stream",
     "text": [
      "X | O |  \n",
      "---------\n",
      "  | X |  \n",
      "---------\n",
      "O | X | O\n"
     ]
    },
    {
     "name": "stdin",
     "output_type": "stream",
     "text": [
      "Enter your move (1-9):  4\n"
     ]
    },
    {
     "name": "stdout",
     "output_type": "stream",
     "text": [
      "X | O |  \n",
      "---------\n",
      "X | X | O\n",
      "---------\n",
      "O | X | O\n"
     ]
    },
    {
     "name": "stdin",
     "output_type": "stream",
     "text": [
      "Enter your move (1-9):  3\n"
     ]
    },
    {
     "name": "stdout",
     "output_type": "stream",
     "text": [
      "X | O | X\n",
      "---------\n",
      "X | X | O\n",
      "---------\n",
      "O | X | O\n",
      "It's a tie!\n"
     ]
    }
   ],
   "source": [
    "# 35 program that simulates a basic text-based tic-tac-toe game against the computer\n",
    "\n",
    "import random\n",
    "board = [\" \" for _ in range(9)]\n",
    "def display_board(board):\n",
    "    print(f\"{board[0]} | {board[1]} | {board[2]}\")\n",
    "    print(\"---------\")\n",
    "    print(f\"{board[3]} | {board[4]} | {board[5]}\")\n",
    "    print(\"---------\")\n",
    "    print(f\"{board[6]} | {board[7]} | {board[8]}\")\n",
    "def check_win(board, player):\n",
    "    win_combinations = [(0, 1, 2), (3, 4, 5), (6, 7, 8),\n",
    "                        (0, 3, 6), (1, 4, 7), (2, 5, 8),\n",
    "                        (0, 4, 8), (2, 4, 6)]\n",
    "    for combo in win_combinations:\n",
    "        if board[combo[0]] == board[combo[1]] == board[combo[2]] == player:\n",
    "            return True\n",
    "    return False\n",
    "def check_tie(board):\n",
    "    return \" \" not in board\n",
    "def computer_move(board, computer, player):\n",
    "    # Check for a winning move\n",
    "    for i in range(9):\n",
    "        if board[i] == \" \":\n",
    "            board[i] = computer\n",
    "            if check_win(board, computer):\n",
    "                return i\n",
    "            else:\n",
    "                board[i] = \" \"  \n",
    "    for i in range(9):\n",
    "        if board[i] == \" \":\n",
    "            board[i] = player\n",
    "            if check_win(board, player):\n",
    "                return i\n",
    "            else:\n",
    "                board[i] = \" \"  \n",
    "    corners = [0, 2, 6, 8]\n",
    "    open_corners = [corner for corner in corners if board[corner] == \" \"]\n",
    "    if open_corners:\n",
    "        return random.choice(open_corners)\n",
    "    if board[4] == \" \":\n",
    "        return 4\n",
    "    edges = [1, 3, 5, 7]\n",
    "    open_edges = [edge for edge in edges if board[edge] == \" \"]\n",
    "    if open_edges:\n",
    "        return random.choice(open_edges)\n",
    "    empty_cells = [i for i in range(9) if board[i] == \" \"]\n",
    "    return random.choice(empty_cells)\n",
    "while True:\n",
    "    display_board(board)\n",
    "    player_move = int(input(\"Enter your move (1-9): \")) - 1\n",
    "    if board[player_move] == \" \" and player_move >= 0 and player_move <= 8:\n",
    "        board[player_move] = \"X\"\n",
    "    else:\n",
    "        print(\"Invalid move. Try again.\")\n",
    "        continue\n",
    "    if check_win(board, \"X\"):\n",
    "        display_board(board)\n",
    "        print(\"Congratulations! You win!\")\n",
    "        break\n",
    "    if check_tie(board):\n",
    "        display_board(board)\n",
    "        print(\"It's a tie!\")\n",
    "        break\n",
    "    computer_move_index = computer_move(board, \"O\", \"X\")\n",
    "    board[computer_move_index] = \"O\"\n",
    "    if check_win(board, \"O\"):\n",
    "        display_board(board)\n",
    "        print(\"Computer wins! Better luck next time.\")\n",
    "        break"
   ]
  },
  {
   "cell_type": "code",
   "execution_count": 36,
   "id": "0cd0fd4e-9c7f-4795-b916-cc080f640a22",
   "metadata": {},
   "outputs": [
    {
     "name": "stdin",
     "output_type": "stream",
     "text": [
      "Enter the number of Fibonacci terms to generate:  6\n"
     ]
    },
    {
     "name": "stdout",
     "output_type": "stream",
     "text": [
      "Fibonacci Sequence:\n",
      "0 1 1 2 3 5 "
     ]
    }
   ],
   "source": [
    "# 36 program that generates Fibonacci numbers up to a specified term using iterative methods\n",
    "\n",
    "n = int(input(\"Enter the number of Fibonacci terms to generate: \"))\n",
    "fibonacci_sequence = [0, 1]\n",
    "while len(fibonacci_sequence) < n:\n",
    "    next_term = fibonacci_sequence[-1] + fibonacci_sequence[-2]\n",
    "    fibonacci_sequence.append(next_term)\n",
    "print(\"Fibonacci Sequence:\")\n",
    "for term in fibonacci_sequence:\n",
    "    print(term, end=\" \")"
   ]
  },
  {
   "cell_type": "code",
   "execution_count": 37,
   "id": "1c4b1c02-efd9-4869-a9a4-6c11fd0edfea",
   "metadata": {},
   "outputs": [
    {
     "name": "stdin",
     "output_type": "stream",
     "text": [
      "Enter the value of n to calculate the nth Fibonacci term:  7\n"
     ]
    },
    {
     "name": "stdout",
     "output_type": "stream",
     "text": [
      "The 7th Fibonacci term is: 13\n"
     ]
    }
   ],
   "source": [
    "# 37 program that calculates the nth term of the Fibonacci sequence using memoization\n",
    "\n",
    "fibonacci_cache = {}\n",
    "def fibonacci(n):\n",
    "    if n in fibonacci_cache:\n",
    "        return fibonacci_cache[n]\n",
    "    if n <= 1:\n",
    "        return n\n",
    "    else:\n",
    "        result = fibonacci(n - 1) + fibonacci(n - 2)\n",
    "        fibonacci_cache[n] = result\n",
    "        return result\n",
    "n = int(input(\"Enter the value of n to calculate the nth Fibonacci term: \"))\n",
    "nth_term = fibonacci(n)\n",
    "print(f\"The {n}th Fibonacci term is: {nth_term}\")"
   ]
  },
  {
   "cell_type": "code",
   "execution_count": 38,
   "id": "17ed17c8-75fa-4b05-9623-4d5bca35ccad",
   "metadata": {},
   "outputs": [
    {
     "name": "stdout",
     "output_type": "stream",
     "text": [
      "Calendar for 2023/9\n",
      "Mo Tu We Th Fr Sa Su\n",
      "             1   2   3  \n",
      " 4   5   6   7   8   9  \n",
      "10  11  12  13  14  15  \n",
      "16  17  18  19  20  21  \n",
      "22  23  24  25  26  27  \n",
      "28  29  30  \n"
     ]
    }
   ],
   "source": [
    "# 38 program that generates a calendar for a given month and year using conditional statements\n",
    "\n",
    "month = 9  # September\n",
    "year = 2023\n",
    "days_in_month = 30\n",
    "days_of_week = [\"Sun\", \"Mon\", \"Tue\", \"Wed\", \"Thu\", \"Fri\", \"Sat\"]\n",
    "first_day_of_week = 3  # Assuming September 1, 2023 is a Wednesday\n",
    "print(f\"Calendar for {year}/{month}\")\n",
    "print(\"Mo Tu We Th Fr Sa Su\")\n",
    "current_day = 1\n",
    "current_weekday = first_day_of_week\n",
    "while current_day <= days_in_month:\n",
    "    for _ in range(current_weekday):\n",
    "        print(\"   \", end=\" \")\n",
    "    while current_day <= days_in_month and current_weekday < 6:\n",
    "        print(f\"{current_day:2} \", end=\" \")\n",
    "        current_day += 1\n",
    "        current_weekday += 1\n",
    "    print()\n",
    "    current_weekday = 0"
   ]
  },
  {
   "cell_type": "code",
   "execution_count": 39,
   "id": "a87eb20b-0e55-492e-bddd-5102d1a65a59",
   "metadata": {},
   "outputs": [
    {
     "name": "stdout",
     "output_type": "stream",
     "text": [
      "\n",
      "Your hand: ['9', 'K'] Value: 19\n",
      "Dealer's hand: A [?]\n"
     ]
    },
    {
     "name": "stdin",
     "output_type": "stream",
     "text": [
      "Do you want to 'hit' or 'stand'?  hit\n"
     ]
    },
    {
     "name": "stdout",
     "output_type": "stream",
     "text": [
      "\n",
      "Your hand: ['9', 'K', '4'] Value: 23\n",
      "Dealer's hand: A [?]\n",
      "\n",
      "Your hand: ['9', 'K', '4'] Value: 23\n",
      "Dealer's hand: A [?]\n",
      "\n",
      "Player busts! Dealer wins.\n"
     ]
    }
   ],
   "source": [
    "# 39 program that simulates a basic text-based blackjack game against the computer\n",
    "\n",
    "import random\n",
    "def calculate_hand_value(hand):\n",
    "    value = 0\n",
    "    num_aces = 0\n",
    "    for card in hand:\n",
    "        if card in [\"K\", \"Q\", \"J\"]:\n",
    "            value += 10\n",
    "        elif card == \"A\":\n",
    "            value += 11\n",
    "            num_aces += 1\n",
    "        else:\n",
    "            value += int(card)\n",
    "    while value > 21 and num_aces > 0:\n",
    "        value -= 10\n",
    "        num_aces -= 1\n",
    "    return value\n",
    "def display_hands(player_hand, dealer_hand):\n",
    "    print(\"\\nYour hand:\", player_hand, \"Value:\", calculate_hand_value(player_hand))\n",
    "    print(\"Dealer's hand:\", dealer_hand[0], \"[?]\")\n",
    "deck = [\"2\", \"3\", \"4\", \"5\", \"6\", \"7\", \"8\", \"9\", \"10\", \"J\", \"Q\", \"K\", \"A\"] * 4\n",
    "random.shuffle(deck)\n",
    "player_hand = [deck.pop(), deck.pop()]\n",
    "dealer_hand = [deck.pop(), deck.pop()]\n",
    "display_hands(player_hand, dealer_hand)\n",
    "while calculate_hand_value(player_hand) < 21:\n",
    "    action = input(\"Do you want to 'hit' or 'stand'? \").lower()\n",
    "    if action == \"hit\":\n",
    "        player_hand.append(deck.pop())\n",
    "        display_hands(player_hand, dealer_hand)\n",
    "    elif action == \"stand\":\n",
    "        break\n",
    "while calculate_hand_value(dealer_hand) < 17:\n",
    "    dealer_hand.append(deck.pop())\n",
    "display_hands(player_hand, dealer_hand)\n",
    "player_value = calculate_hand_value(player_hand)\n",
    "dealer_value = calculate_hand_value(dealer_hand)\n",
    "if player_value > 21:\n",
    "    print(\"\\nPlayer busts! Dealer wins.\")\n",
    "elif dealer_value > 21:\n",
    "    print(\"\\nDealer busts! Player wins.\")\n",
    "elif player_value > dealer_value:\n",
    "    print(\"\\nPlayer wins!\")\n",
    "elif dealer_value > player_value:\n",
    "    print(\"\\nDealer wins.\")\n",
    "else:\n",
    "    print(\"\\nIt's a tie!\")"
   ]
  },
  {
   "cell_type": "code",
   "execution_count": 41,
   "id": "a4a9a9de-dc0a-4704-bb89-997a72f6f967",
   "metadata": {},
   "outputs": [
    {
     "name": "stdin",
     "output_type": "stream",
     "text": [
      "Enter a number:  34\n"
     ]
    },
    {
     "name": "stdout",
     "output_type": "stream",
     "text": [
      "The prime factors of 34 are: 2, 17\n"
     ]
    }
   ],
   "source": [
    "# 40 program that generates the prime factors of a given number using trial division\n",
    "\n",
    "def prime_factors(n):\n",
    "    factors = []\n",
    "    while n % 2 == 0:\n",
    "        factors.append(2)\n",
    "        n //= 2\n",
    "    for i in range(3, int(n**0.5) + 1, 2):\n",
    "        while n % i == 0:\n",
    "            factors.append(i)\n",
    "            n //= i\n",
    "    if n > 1:\n",
    "        factors.append(n)\n",
    "    return factors\n",
    "num = int(input(\"Enter a number: \"))\n",
    "factors = prime_factors(num)\n",
    "if len(factors) == 0:\n",
    "    print(f\"{num} has no prime factors (it may be prime).\")\n",
    "else:\n",
    "    print(f\"The prime factors of {num} are: {', '.join(map(str, factors))}\")"
   ]
  }
 ],
 "metadata": {
  "kernelspec": {
   "display_name": "Python 3 (ipykernel)",
   "language": "python",
   "name": "python3"
  },
  "language_info": {
   "codemirror_mode": {
    "name": "ipython",
    "version": 3
   },
   "file_extension": ".py",
   "mimetype": "text/x-python",
   "name": "python",
   "nbconvert_exporter": "python",
   "pygments_lexer": "ipython3",
   "version": "3.10.8"
  }
 },
 "nbformat": 4,
 "nbformat_minor": 5
}
